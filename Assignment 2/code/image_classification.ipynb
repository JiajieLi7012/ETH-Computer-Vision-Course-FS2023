{
  "cells": [
    {
      "cell_type": "markdown",
      "metadata": {
        "id": "G349TRjpYpO4"
      },
      "source": [
        "# Image Classification with PyTorch"
      ]
    },
    {
      "cell_type": "markdown",
      "metadata": {
        "id": "PNur6lltYpO7"
      },
      "source": [
        "## Data loading\n"
      ]
    },
    {
      "cell_type": "code",
      "execution_count": 1,
      "metadata": {
        "id": "M16beb8AYpO7"
      },
      "outputs": [],
      "source": [
        "import numpy as np\n",
        "import matplotlib.pyplot as plt\n",
        "\n",
        "import torch\n",
        "import torch.nn as nn\n",
        "import torch.nn.functional as F\n",
        "import torch.optim as optim\n",
        "from torch.utils.data import DataLoader\n",
        "import torchvision\n",
        "from torchvision import datasets, transforms"
      ]
    },
    {
      "cell_type": "code",
      "execution_count": 2,
      "metadata": {
        "colab": {
          "base_uri": "https://localhost:8080/"
        },
        "id": "rYwpWBLEYpO8",
        "outputId": "e2b985a5-a075-44ab-a574-1b05454a28cb"
      },
      "outputs": [
        {
          "output_type": "stream",
          "name": "stdout",
          "text": [
            "Downloading http://yann.lecun.com/exdb/mnist/train-images-idx3-ubyte.gz\n",
            "Downloading http://yann.lecun.com/exdb/mnist/train-images-idx3-ubyte.gz to data/MNIST/raw/train-images-idx3-ubyte.gz\n"
          ]
        },
        {
          "output_type": "stream",
          "name": "stderr",
          "text": [
            "100%|██████████| 9912422/9912422 [00:00<00:00, 28953453.28it/s]\n"
          ]
        },
        {
          "output_type": "stream",
          "name": "stdout",
          "text": [
            "Extracting data/MNIST/raw/train-images-idx3-ubyte.gz to data/MNIST/raw\n",
            "\n",
            "Downloading http://yann.lecun.com/exdb/mnist/train-labels-idx1-ubyte.gz\n",
            "Downloading http://yann.lecun.com/exdb/mnist/train-labels-idx1-ubyte.gz to data/MNIST/raw/train-labels-idx1-ubyte.gz\n"
          ]
        },
        {
          "output_type": "stream",
          "name": "stderr",
          "text": [
            "100%|██████████| 28881/28881 [00:00<00:00, 76814010.03it/s]"
          ]
        },
        {
          "output_type": "stream",
          "name": "stdout",
          "text": [
            "Extracting data/MNIST/raw/train-labels-idx1-ubyte.gz to data/MNIST/raw\n",
            "\n",
            "Downloading http://yann.lecun.com/exdb/mnist/t10k-images-idx3-ubyte.gz\n",
            "Downloading http://yann.lecun.com/exdb/mnist/t10k-images-idx3-ubyte.gz to data/MNIST/raw/t10k-images-idx3-ubyte.gz\n"
          ]
        },
        {
          "output_type": "stream",
          "name": "stderr",
          "text": [
            "\n",
            "100%|██████████| 1648877/1648877 [00:00<00:00, 28536791.40it/s]\n"
          ]
        },
        {
          "output_type": "stream",
          "name": "stdout",
          "text": [
            "Extracting data/MNIST/raw/t10k-images-idx3-ubyte.gz to data/MNIST/raw\n",
            "\n",
            "Downloading http://yann.lecun.com/exdb/mnist/t10k-labels-idx1-ubyte.gz\n",
            "Downloading http://yann.lecun.com/exdb/mnist/t10k-labels-idx1-ubyte.gz to data/MNIST/raw/t10k-labels-idx1-ubyte.gz\n"
          ]
        },
        {
          "output_type": "stream",
          "name": "stderr",
          "text": [
            "100%|██████████| 4542/4542 [00:00<00:00, 11147178.92it/s]"
          ]
        },
        {
          "output_type": "stream",
          "name": "stdout",
          "text": [
            "Extracting data/MNIST/raw/t10k-labels-idx1-ubyte.gz to data/MNIST/raw\n",
            "\n"
          ]
        },
        {
          "output_type": "stream",
          "name": "stderr",
          "text": [
            "\n"
          ]
        }
      ],
      "source": [
        "# torchvision contains convinience functions for popular datasets\n",
        "ds_train = datasets.MNIST('data', train=True, download=True)"
      ]
    },
    {
      "cell_type": "markdown",
      "metadata": {
        "id": "GnBDUPJFYpO8"
      },
      "source": [
        "Each sample is a 28x28 image"
      ]
    },
    {
      "cell_type": "code",
      "execution_count": 3,
      "metadata": {
        "colab": {
          "base_uri": "https://localhost:8080/",
          "height": 154
        },
        "id": "ycCdLZ2YYpO8",
        "outputId": "28fd1c74-8446-4a23-d0fb-aa17a24b1dba"
      },
      "outputs": [
        {
          "output_type": "stream",
          "name": "stdout",
          "text": [
            "(<PIL.Image.Image image mode=L size=28x28 at 0x7B011C515030>, 5)\n"
          ]
        },
        {
          "output_type": "execute_result",
          "data": {
            "text/plain": [
              "<PIL.Image.Image image mode=L size=120x120>"
            ],
            "image/png": "[encoded data removed]"
          },
          "metadata": {},
          "execution_count": 3
        }
      ],
      "source": [
        "# if we index this dataset, we get a single data point: a PIL image and an Integer\n",
        "print(ds_train[0])\n",
        "ds_train[0][0].resize((120,120))"
      ]
    },
    {
      "cell_type": "markdown",
      "metadata": {
        "id": "9NNgzuiaYpO9"
      },
      "source": [
        "Let's transform the data to something that our Pytorch models will understand\n",
        "for this purpose, we can supply a transform function to the datase"
      ]
    },
    {
      "cell_type": "code",
      "execution_count": 4,
      "metadata": {
        "id": "u3v8ZoDxYpO9"
      },
      "outputs": [],
      "source": [
        "transform = transforms.Compose([\n",
        "    transforms.ToTensor(),\n",
        "])\n",
        "ds_train = datasets.MNIST('data', train=True, download=True, transform=transform)"
      ]
    },
    {
      "cell_type": "markdown",
      "metadata": {
        "id": "htH5u-vTYpO9"
      },
      "source": [
        "The image is now a `torch.Tensor`"
      ]
    },
    {
      "cell_type": "code",
      "execution_count": 5,
      "metadata": {
        "colab": {
          "base_uri": "https://localhost:8080/"
        },
        "id": "xJf5pxBzYpO9",
        "outputId": "9592f3fd-8b4b-4f69-931e-b14c8521c25f"
      },
      "outputs": [
        {
          "output_type": "execute_result",
          "data": {
            "text/plain": [
              "torch.Tensor"
            ]
          },
          "metadata": {},
          "execution_count": 5
        }
      ],
      "source": [
        "type(ds_train[0][0])"
      ]
    },
    {
      "cell_type": "markdown",
      "metadata": {
        "id": "I1-thOkMYpO9"
      },
      "source": [
        "The normalization is something you learned about in the lecture. Normalizing with $\\mu=0, \\sigma=1$ corresponds to no normalization. Let's compute the proper normalization constants!"
      ]
    },
    {
      "cell_type": "code",
      "execution_count": 6,
      "metadata": {
        "id": "QxtH_loCYpO-"
      },
      "outputs": [],
      "source": [
        "# lets get only the images\n",
        "ims_train = ds_train.data\n",
        "ims_train = ims_train.float() / 255."
      ]
    },
    {
      "cell_type": "code",
      "execution_count": 7,
      "metadata": {
        "id": "NHtXUje9YpO-"
      },
      "outputs": [],
      "source": [
        "#########################################################################\n",
        "# TODO: calculate the mean and std of MNIST images\n",
        "# hint: to look for operations on pytorch tensor, refer to the official PyTorch docs\n",
        "# https://pytorch.org/docs/stable/\n",
        "#########################################################################\n",
        "mu = ims_train.mean()\n",
        "std = ims_train.std()"
      ]
    },
    {
      "cell_type": "markdown",
      "metadata": {
        "id": "RJStRdtWYpO-"
      },
      "source": [
        "We normalize the data as below."
      ]
    },
    {
      "cell_type": "code",
      "execution_count": 8,
      "metadata": {
        "id": "Odj0Y8A3YpO-"
      },
      "outputs": [],
      "source": [
        "transform = transforms.Compose([\n",
        "    transforms.ToTensor(),\n",
        "    transforms.Normalize(mu, std)\n",
        "])\n",
        "ds_train = datasets.MNIST('data', train=True, download=True, transform=transform)\n",
        "ds_test = datasets.MNIST('data', train=False, download=True, transform=transform)"
      ]
    },
    {
      "cell_type": "code",
      "execution_count": 9,
      "metadata": {
        "colab": {
          "base_uri": "https://localhost:8080/"
        },
        "id": "99k045RxYpO-",
        "outputId": "162cdb4d-8bdc-4db8-e7c5-3f27d26ba6d4"
      },
      "outputs": [
        {
          "output_type": "execute_result",
          "data": {
            "text/plain": [
              "(tensor(-0.4241), tensor(2.8215))"
            ]
          },
          "metadata": {},
          "execution_count": 9
        }
      ],
      "source": [
        "ds_train[0][0].min(), ds_train[0][0].max()"
      ]
    },
    {
      "cell_type": "markdown",
      "metadata": {
        "id": "01x36ZJTYpO-"
      },
      "source": [
        "Next, we want to receive mini-batches, not only single data points.\n",
        "We use PyTorch's DataLoader class. Build a dataloader with a batch size of 64 and 4 workers (number of subprocess that peform the dataloading). Important: you need to shuffle the training data, not the test data.\n",
        "\n",
        "**NOTE**: if you encounter some unexpected errors in data loading, try setting `NUM_WORKERS = 0`"
      ]
    },
    {
      "cell_type": "code",
      "execution_count": 10,
      "metadata": {
        "colab": {
          "base_uri": "https://localhost:8080/"
        },
        "id": "6zM1Joe7YpO-",
        "outputId": "a7af5301-3cba-4725-fb04-252c03df9028"
      },
      "outputs": [
        {
          "output_type": "stream",
          "name": "stderr",
          "text": [
            "/usr/local/lib/python3.10/dist-packages/torch/utils/data/dataloader.py:557: UserWarning: This DataLoader will create 4 worker processes in total. Our suggested max number of worker in current system is 2, which is smaller than what this DataLoader is going to create. Please be aware that excessive worker creation might get DataLoader running slow or even freeze, lower the worker number to avoid potential slowness/freeze if necessary.\n",
            "  warnings.warn(_create_warning_msg(\n"
          ]
        }
      ],
      "source": [
        "BATCH_SIZE = 64\n",
        "NUM_WORKERS = 4\n",
        "#########################################################################\n",
        "# TODO: Build a dataloader for both train and test data.\n",
        "#########################################################################\n",
        "dl_train = DataLoader(ds_train, batch_size=BATCH_SIZE, shuffle=True, num_workers=NUM_WORKERS)\n",
        "dl_test = DataLoader(ds_test, batch_size=BATCH_SIZE, shuffle=False, num_workers=NUM_WORKERS)"
      ]
    },
    {
      "cell_type": "markdown",
      "metadata": {
        "id": "92yXWsIFYpO-"
      },
      "source": [
        "## MLP in Pytorch\n",
        "\n",
        "Ok, the dataloading works. Let's build our model, PyTorch makes this very easy. We will build replicate the model from our last exercises. However, now, we add another variable called `nLayer` that indicates how many linear layers that in your network. Please adapt your code from last exercise accordingly to allow different number of layers."
      ]
    },
    {
      "cell_type": "code",
      "execution_count": 11,
      "metadata": {
        "id": "vtr1Xpi_YpO-"
      },
      "outputs": [],
      "source": [
        "# These are the parameters to be used\n",
        "nInput = 784\n",
        "nOutput = 10\n",
        "nLayer = 2\n",
        "nHidden = 16\n",
        "act_fn = nn.ReLU()"
      ]
    },
    {
      "cell_type": "code",
      "execution_count": 12,
      "metadata": {
        "id": "ypreuGJmYpO-"
      },
      "outputs": [],
      "source": [
        "#########################################################################\n",
        "# TODO: Implement the __init__ of the MLP class.\n",
        "# insert the activation after every linear layer. Important: the number of\n",
        "# hidden layers should be variable!\n",
        "#########################################################################\n",
        "\n",
        "class MLP(nn.Module):\n",
        "    def __init__(self, nInput, nOutput, nLayer, nHidden, act_fn):\n",
        "        super(MLP, self).__init__()\n",
        "        layers = []\n",
        "\n",
        "        ##### implement this part #####\n",
        "        # Input layer\n",
        "        layers.append(nn.Linear(nInput, nHidden))\n",
        "        layers.append(act_fn)\n",
        "\n",
        "        # Hidden layers\n",
        "        for _ in range(nLayer - 1):\n",
        "            layers.append(nn.Linear(nHidden, nHidden))\n",
        "            layers.append(act_fn)\n",
        "\n",
        "        # Output layer\n",
        "        layers.append(nn.Linear(nHidden, nOutput))\n",
        "\n",
        "\n",
        "        ###############################\n",
        "\n",
        "        self.model = nn.Sequential(*layers)\n",
        "\n",
        "    def forward(self, x):\n",
        "        x = torch.flatten(x, 1)\n",
        "        return self.model(x)"
      ]
    },
    {
      "cell_type": "code",
      "execution_count": 13,
      "metadata": {
        "scrolled": true,
        "colab": {
          "base_uri": "https://localhost:8080/"
        },
        "id": "ALjIFhuLYpO_",
        "outputId": "f60e3cbf-9034-4653-9abd-2d12bdd855e8"
      },
      "outputs": [
        {
          "output_type": "execute_result",
          "data": {
            "text/plain": [
              "torch.Size([1, 10])"
            ]
          },
          "metadata": {},
          "execution_count": 13
        }
      ],
      "source": [
        "# Let's test if the forward pass works\n",
        "# this should print torch.Size([1, 10])\n",
        "t = torch.randn(1,1,28,28)\n",
        "mlp = MLP(nInput, nOutput, nLayer, nHidden, act_fn)\n",
        "mlp(t).shape"
      ]
    },
    {
      "cell_type": "code",
      "execution_count": 14,
      "metadata": {
        "colab": {
          "base_uri": "https://localhost:8080/"
        },
        "id": "HS_FqfHUYpO_",
        "outputId": "35ce0365-0570-462f-b4b0-5a18bd0038fa"
      },
      "outputs": [
        {
          "output_type": "execute_result",
          "data": {
            "text/plain": [
              "MLP(\n",
              "  (model): Sequential(\n",
              "    (0): Linear(in_features=784, out_features=16, bias=True)\n",
              "    (1): ReLU()\n",
              "    (2): Linear(in_features=16, out_features=16, bias=True)\n",
              "    (3): ReLU()\n",
              "    (4): Linear(in_features=16, out_features=10, bias=True)\n",
              "  )\n",
              ")"
            ]
          },
          "metadata": {},
          "execution_count": 14
        }
      ],
      "source": [
        "mlp"
      ]
    },
    {
      "cell_type": "markdown",
      "metadata": {
        "id": "tW5KDJJpYpO_"
      },
      "source": [
        "We already implemented the test function for you"
      ]
    },
    {
      "cell_type": "code",
      "execution_count": 15,
      "metadata": {
        "id": "EX89WXZ9YpO_"
      },
      "outputs": [],
      "source": [
        "def test(model, dl_test, device='cpu'):\n",
        "    model.eval()\n",
        "    test_loss = 0\n",
        "    correct = 0\n",
        "    with torch.no_grad():\n",
        "        for data, target in dl_test:\n",
        "            data, target = data.to(device), target.to(device)\n",
        "            output = model(data)\n",
        "            test_loss += F.cross_entropy(output, target, reduction='sum').item()  # sum up batch loss\n",
        "            pred = output.argmax(dim=1, keepdim=True)  # get the index of the max log-probability\n",
        "            correct += pred.eq(target.view_as(pred)).sum().item()\n",
        "\n",
        "    test_loss /= len(dl_test.dataset)\n",
        "\n",
        "    print('\\nTest set: Average loss: {:.4f}, Accuracy: {}/{} ({:.3f}%)\\n'.format(\n",
        "        test_loss, correct, len(dl_test.dataset),\n",
        "        100. * correct / len(dl_test.dataset)))"
      ]
    },
    {
      "cell_type": "markdown",
      "metadata": {
        "id": "NnqsFMO9YpO_"
      },
      "source": [
        "Now you only need to implement the training and you are good to go"
      ]
    },
    {
      "cell_type": "code",
      "execution_count": 16,
      "metadata": {
        "id": "bG4i9yftYpO_"
      },
      "outputs": [],
      "source": [
        "#########################################################################\n",
        "# TODO: Implement the missing part of the training function. As a loss function we want to use cross entropy\n",
        "# It can be called with F.cross_entropy().\n",
        "# Hint: Pass through the model -> Backpropagate gradients -> Take gradient step\n",
        "#########################################################################\n",
        "\n",
        "def train(model, dl_train, optimizer, epoch, log_interval=100, device='cpu'):\n",
        "    model.train()\n",
        "    correct = 0\n",
        "    for batch_idx, (data, target) in enumerate(dl_train):\n",
        "        data, target = data.to(device), target.to(device)\n",
        "\n",
        "        # first we need to zero the gradient, otherwise PyTorch would accumulate them\n",
        "        optimizer.zero_grad()\n",
        "\n",
        "        ##### implement this part #####\n",
        "        output = model(data)\n",
        "        loss = F.cross_entropy(output, target)\n",
        "        loss.backward()\n",
        "        optimizer.step()\n",
        "\n",
        "\n",
        "        ###############################\n",
        "\n",
        "        # stats\n",
        "        pred = output.argmax(dim=1, keepdim=True)  # get the index of the max log-probability\n",
        "        correct += pred.eq(target.view_as(pred)).sum().item()\n",
        "\n",
        "        if batch_idx % log_interval == 0:\n",
        "            print('Train Epoch: {} [{}/{} ({:.0f}%)]\\tLoss: {:.6f}'.format(\n",
        "                epoch, batch_idx * len(data), len(dl_train.dataset),\n",
        "                100. * batch_idx / len(dl_train), loss.item()))\n",
        "\n",
        "    print('\\nTrain set: Average loss: {:.4f}, Accuracy: {}/{} ({:.1f}%)\\n'.format(\n",
        "        loss, correct, len(dl_train.dataset),\n",
        "        100. * correct / len(dl_train.dataset)))"
      ]
    },
    {
      "cell_type": "markdown",
      "metadata": {
        "id": "0056NUCPYpO_"
      },
      "source": [
        "Ok, the setup is almost done. The onoly missing part is the optimizer. We are going to use Adam."
      ]
    },
    {
      "cell_type": "code",
      "execution_count": 17,
      "metadata": {
        "id": "tAFlWoH1YpO_"
      },
      "outputs": [],
      "source": [
        "# reinitialize the mlp, so we can play with parameters right here\n",
        "mlp = MLP(nInput, nOutput, nLayer, nHidden, act_fn)\n",
        "optimizer = optim.Adam(mlp.parameters())"
      ]
    },
    {
      "cell_type": "code",
      "execution_count": 18,
      "metadata": {
        "scrolled": true,
        "colab": {
          "base_uri": "https://localhost:8080/"
        },
        "id": "umjW8X9bYpO_",
        "outputId": "9cb39443-7262-409b-add6-0df5b97ad1e8"
      },
      "outputs": [
        {
          "output_type": "stream",
          "name": "stdout",
          "text": [
            "Train Epoch: 1 [0/60000 (0%)]\tLoss: 2.291945\n",
            "Train Epoch: 1 [6400/60000 (11%)]\tLoss: 0.547948\n",
            "Train Epoch: 1 [12800/60000 (21%)]\tLoss: 0.509070\n",
            "Train Epoch: 1 [19200/60000 (32%)]\tLoss: 0.239401\n",
            "Train Epoch: 1 [25600/60000 (43%)]\tLoss: 0.297861\n",
            "Train Epoch: 1 [32000/60000 (53%)]\tLoss: 0.371224\n",
            "Train Epoch: 1 [38400/60000 (64%)]\tLoss: 0.231744\n",
            "Train Epoch: 1 [44800/60000 (75%)]\tLoss: 0.211106\n",
            "Train Epoch: 1 [51200/60000 (85%)]\tLoss: 0.140038\n",
            "Train Epoch: 1 [57600/60000 (96%)]\tLoss: 0.438020\n",
            "\n",
            "Train set: Average loss: 0.3344, Accuracy: 51321/60000 (85.5%)\n",
            "\n",
            "\n",
            "Test set: Average loss: 0.2955, Accuracy: 9139/10000 (91.390%)\n",
            "\n",
            "Train Epoch: 2 [0/60000 (0%)]\tLoss: 0.164562\n",
            "Train Epoch: 2 [6400/60000 (11%)]\tLoss: 0.550257\n",
            "Train Epoch: 2 [12800/60000 (21%)]\tLoss: 0.208433\n",
            "Train Epoch: 2 [19200/60000 (32%)]\tLoss: 0.458891\n",
            "Train Epoch: 2 [25600/60000 (43%)]\tLoss: 0.276166\n",
            "Train Epoch: 2 [32000/60000 (53%)]\tLoss: 0.211245\n",
            "Train Epoch: 2 [38400/60000 (64%)]\tLoss: 0.115435\n",
            "Train Epoch: 2 [44800/60000 (75%)]\tLoss: 0.372821\n",
            "Train Epoch: 2 [51200/60000 (85%)]\tLoss: 0.218213\n",
            "Train Epoch: 2 [57600/60000 (96%)]\tLoss: 0.315620\n",
            "\n",
            "Train set: Average loss: 0.1290, Accuracy: 55292/60000 (92.2%)\n",
            "\n",
            "\n",
            "Test set: Average loss: 0.2383, Accuracy: 9271/10000 (92.710%)\n",
            "\n",
            "Train Epoch: 3 [0/60000 (0%)]\tLoss: 0.417243\n",
            "Train Epoch: 3 [6400/60000 (11%)]\tLoss: 0.378108\n",
            "Train Epoch: 3 [12800/60000 (21%)]\tLoss: 0.090472\n",
            "Train Epoch: 3 [19200/60000 (32%)]\tLoss: 0.172307\n",
            "Train Epoch: 3 [25600/60000 (43%)]\tLoss: 0.236253\n",
            "Train Epoch: 3 [32000/60000 (53%)]\tLoss: 0.240391\n",
            "Train Epoch: 3 [38400/60000 (64%)]\tLoss: 0.235732\n",
            "Train Epoch: 3 [44800/60000 (75%)]\tLoss: 0.352551\n",
            "Train Epoch: 3 [51200/60000 (85%)]\tLoss: 0.090171\n",
            "Train Epoch: 3 [57600/60000 (96%)]\tLoss: 0.363326\n",
            "\n",
            "Train set: Average loss: 0.4918, Accuracy: 56225/60000 (93.7%)\n",
            "\n",
            "\n",
            "Test set: Average loss: 0.2063, Accuracy: 9392/10000 (93.920%)\n",
            "\n",
            "Train Epoch: 4 [0/60000 (0%)]\tLoss: 0.487359\n",
            "Train Epoch: 4 [6400/60000 (11%)]\tLoss: 0.159286\n",
            "Train Epoch: 4 [12800/60000 (21%)]\tLoss: 0.264950\n",
            "Train Epoch: 4 [19200/60000 (32%)]\tLoss: 0.181557\n",
            "Train Epoch: 4 [25600/60000 (43%)]\tLoss: 0.068219\n",
            "Train Epoch: 4 [32000/60000 (53%)]\tLoss: 0.142793\n",
            "Train Epoch: 4 [38400/60000 (64%)]\tLoss: 0.241381\n",
            "Train Epoch: 4 [44800/60000 (75%)]\tLoss: 0.440821\n",
            "Train Epoch: 4 [51200/60000 (85%)]\tLoss: 0.195245\n",
            "Train Epoch: 4 [57600/60000 (96%)]\tLoss: 0.126925\n",
            "\n",
            "Train set: Average loss: 0.2644, Accuracy: 56748/60000 (94.6%)\n",
            "\n",
            "\n",
            "Test set: Average loss: 0.1782, Accuracy: 9464/10000 (94.640%)\n",
            "\n",
            "Train Epoch: 5 [0/60000 (0%)]\tLoss: 0.196292\n",
            "Train Epoch: 5 [6400/60000 (11%)]\tLoss: 0.142211\n",
            "Train Epoch: 5 [12800/60000 (21%)]\tLoss: 0.152407\n",
            "Train Epoch: 5 [19200/60000 (32%)]\tLoss: 0.227081\n",
            "Train Epoch: 5 [25600/60000 (43%)]\tLoss: 0.059760\n",
            "Train Epoch: 5 [32000/60000 (53%)]\tLoss: 0.083274\n",
            "Train Epoch: 5 [38400/60000 (64%)]\tLoss: 0.126311\n",
            "Train Epoch: 5 [44800/60000 (75%)]\tLoss: 0.213415\n",
            "Train Epoch: 5 [51200/60000 (85%)]\tLoss: 0.090441\n",
            "Train Epoch: 5 [57600/60000 (96%)]\tLoss: 0.176008\n",
            "\n",
            "Train set: Average loss: 0.2525, Accuracy: 57055/60000 (95.1%)\n",
            "\n",
            "\n",
            "Test set: Average loss: 0.1693, Accuracy: 9517/10000 (95.170%)\n",
            "\n",
            "Train Epoch: 6 [0/60000 (0%)]\tLoss: 0.037375\n",
            "Train Epoch: 6 [6400/60000 (11%)]\tLoss: 0.150293\n",
            "Train Epoch: 6 [12800/60000 (21%)]\tLoss: 0.103660\n",
            "Train Epoch: 6 [19200/60000 (32%)]\tLoss: 0.135972\n",
            "Train Epoch: 6 [25600/60000 (43%)]\tLoss: 0.236614\n",
            "Train Epoch: 6 [32000/60000 (53%)]\tLoss: 0.169769\n",
            "Train Epoch: 6 [38400/60000 (64%)]\tLoss: 0.207014\n",
            "Train Epoch: 6 [44800/60000 (75%)]\tLoss: 0.110355\n",
            "Train Epoch: 6 [51200/60000 (85%)]\tLoss: 0.263663\n",
            "Train Epoch: 6 [57600/60000 (96%)]\tLoss: 0.166704\n",
            "\n",
            "Train set: Average loss: 0.0746, Accuracy: 57315/60000 (95.5%)\n",
            "\n",
            "\n",
            "Test set: Average loss: 0.1638, Accuracy: 9523/10000 (95.230%)\n",
            "\n",
            "Train Epoch: 7 [0/60000 (0%)]\tLoss: 0.228525\n",
            "Train Epoch: 7 [6400/60000 (11%)]\tLoss: 0.178781\n",
            "Train Epoch: 7 [12800/60000 (21%)]\tLoss: 0.170557\n",
            "Train Epoch: 7 [19200/60000 (32%)]\tLoss: 0.056717\n",
            "Train Epoch: 7 [25600/60000 (43%)]\tLoss: 0.066353\n",
            "Train Epoch: 7 [32000/60000 (53%)]\tLoss: 0.223220\n",
            "Train Epoch: 7 [38400/60000 (64%)]\tLoss: 0.195148\n",
            "Train Epoch: 7 [44800/60000 (75%)]\tLoss: 0.190646\n",
            "Train Epoch: 7 [51200/60000 (85%)]\tLoss: 0.215568\n",
            "Train Epoch: 7 [57600/60000 (96%)]\tLoss: 0.221096\n",
            "\n",
            "Train set: Average loss: 0.4103, Accuracy: 57468/60000 (95.8%)\n",
            "\n",
            "\n",
            "Test set: Average loss: 0.1560, Accuracy: 9536/10000 (95.360%)\n",
            "\n",
            "Train Epoch: 8 [0/60000 (0%)]\tLoss: 0.068577\n",
            "Train Epoch: 8 [6400/60000 (11%)]\tLoss: 0.063439\n",
            "Train Epoch: 8 [12800/60000 (21%)]\tLoss: 0.081578\n",
            "Train Epoch: 8 [19200/60000 (32%)]\tLoss: 0.109192\n",
            "Train Epoch: 8 [25600/60000 (43%)]\tLoss: 0.083853\n",
            "Train Epoch: 8 [32000/60000 (53%)]\tLoss: 0.203370\n",
            "Train Epoch: 8 [38400/60000 (64%)]\tLoss: 0.041189\n",
            "Train Epoch: 8 [44800/60000 (75%)]\tLoss: 0.027480\n",
            "Train Epoch: 8 [51200/60000 (85%)]\tLoss: 0.047811\n",
            "Train Epoch: 8 [57600/60000 (96%)]\tLoss: 0.110150\n",
            "\n",
            "Train set: Average loss: 0.0247, Accuracy: 57596/60000 (96.0%)\n",
            "\n",
            "\n",
            "Test set: Average loss: 0.1527, Accuracy: 9550/10000 (95.500%)\n",
            "\n",
            "Train Epoch: 9 [0/60000 (0%)]\tLoss: 0.149553\n",
            "Train Epoch: 9 [6400/60000 (11%)]\tLoss: 0.216534\n",
            "Train Epoch: 9 [12800/60000 (21%)]\tLoss: 0.156756\n",
            "Train Epoch: 9 [19200/60000 (32%)]\tLoss: 0.064566\n",
            "Train Epoch: 9 [25600/60000 (43%)]\tLoss: 0.095373\n",
            "Train Epoch: 9 [32000/60000 (53%)]\tLoss: 0.097753\n",
            "Train Epoch: 9 [38400/60000 (64%)]\tLoss: 0.108827\n",
            "Train Epoch: 9 [44800/60000 (75%)]\tLoss: 0.118812\n",
            "Train Epoch: 9 [51200/60000 (85%)]\tLoss: 0.216182\n",
            "Train Epoch: 9 [57600/60000 (96%)]\tLoss: 0.063923\n",
            "\n",
            "Train set: Average loss: 0.1541, Accuracy: 57717/60000 (96.2%)\n",
            "\n",
            "\n",
            "Test set: Average loss: 0.1468, Accuracy: 9560/10000 (95.600%)\n",
            "\n",
            "Train Epoch: 10 [0/60000 (0%)]\tLoss: 0.078964\n",
            "Train Epoch: 10 [6400/60000 (11%)]\tLoss: 0.169703\n",
            "Train Epoch: 10 [12800/60000 (21%)]\tLoss: 0.088353\n",
            "Train Epoch: 10 [19200/60000 (32%)]\tLoss: 0.153353\n",
            "Train Epoch: 10 [25600/60000 (43%)]\tLoss: 0.050695\n",
            "Train Epoch: 10 [32000/60000 (53%)]\tLoss: 0.117198\n",
            "Train Epoch: 10 [38400/60000 (64%)]\tLoss: 0.146731\n",
            "Train Epoch: 10 [44800/60000 (75%)]\tLoss: 0.138628\n",
            "Train Epoch: 10 [51200/60000 (85%)]\tLoss: 0.262629\n",
            "Train Epoch: 10 [57600/60000 (96%)]\tLoss: 0.065319\n",
            "\n",
            "Train set: Average loss: 0.1447, Accuracy: 57781/60000 (96.3%)\n",
            "\n",
            "\n",
            "Test set: Average loss: 0.1597, Accuracy: 9519/10000 (95.190%)\n",
            "\n",
            "Training is finished.\n"
          ]
        }
      ],
      "source": [
        "epochs = 10\n",
        "for epoch in range(1, epochs + 1):\n",
        "    train(mlp, dl_train, optimizer, epoch, log_interval=100)\n",
        "    test(mlp, dl_test)\n",
        "\n",
        "print ('Training is finished.')"
      ]
    },
    {
      "cell_type": "markdown",
      "metadata": {
        "id": "48_xAVsYYpO_"
      },
      "source": [
        "After training, you should see test accuracies of > **94%** - By they way, here we report test accuracy, the last exercises reported test error. Accuracy is simply (1 - error). Both metrics are commonly reported, there is no clear preference in literature for one or the other."
      ]
    },
    {
      "cell_type": "markdown",
      "metadata": {
        "id": "rnko_AUPYpO_"
      },
      "source": [
        "Now, can you do some parameter tuning to boost the test accuracy to > **97%**?"
      ]
    },
    {
      "cell_type": "code",
      "execution_count": 19,
      "metadata": {
        "colab": {
          "base_uri": "https://localhost:8080/"
        },
        "id": "hWctXuqwYpO_",
        "outputId": "bd7114ff-386b-4f6f-bd22-9179339268dd"
      },
      "outputs": [
        {
          "output_type": "stream",
          "name": "stdout",
          "text": [
            "Train Epoch: 1 [0/60000 (0%)]\tLoss: 2.285471\n",
            "Train Epoch: 1 [6400/60000 (11%)]\tLoss: 0.555695\n",
            "Train Epoch: 1 [12800/60000 (21%)]\tLoss: 0.285409\n",
            "Train Epoch: 1 [19200/60000 (32%)]\tLoss: 0.484319\n",
            "Train Epoch: 1 [25600/60000 (43%)]\tLoss: 0.154020\n",
            "Train Epoch: 1 [32000/60000 (53%)]\tLoss: 0.236778\n",
            "Train Epoch: 1 [38400/60000 (64%)]\tLoss: 0.258873\n",
            "Train Epoch: 1 [44800/60000 (75%)]\tLoss: 0.091441\n",
            "Train Epoch: 1 [51200/60000 (85%)]\tLoss: 0.217182\n",
            "Train Epoch: 1 [57600/60000 (96%)]\tLoss: 0.152440\n",
            "\n",
            "Train set: Average loss: 0.2463, Accuracy: 53242/60000 (88.7%)\n",
            "\n",
            "\n",
            "Test set: Average loss: 0.1659, Accuracy: 9482/10000 (94.820%)\n",
            "\n",
            "Train Epoch: 2 [0/60000 (0%)]\tLoss: 0.148609\n",
            "Train Epoch: 2 [6400/60000 (11%)]\tLoss: 0.148004\n",
            "Train Epoch: 2 [12800/60000 (21%)]\tLoss: 0.114158\n",
            "Train Epoch: 2 [19200/60000 (32%)]\tLoss: 0.051731\n",
            "Train Epoch: 2 [25600/60000 (43%)]\tLoss: 0.143777\n",
            "Train Epoch: 2 [32000/60000 (53%)]\tLoss: 0.149270\n",
            "Train Epoch: 2 [38400/60000 (64%)]\tLoss: 0.076362\n",
            "Train Epoch: 2 [44800/60000 (75%)]\tLoss: 0.445813\n",
            "Train Epoch: 2 [51200/60000 (85%)]\tLoss: 0.097247\n",
            "Train Epoch: 2 [57600/60000 (96%)]\tLoss: 0.031002\n",
            "\n",
            "Train set: Average loss: 0.1673, Accuracy: 57214/60000 (95.4%)\n",
            "\n",
            "\n",
            "Test set: Average loss: 0.1388, Accuracy: 9547/10000 (95.470%)\n",
            "\n",
            "Train Epoch: 3 [0/60000 (0%)]\tLoss: 0.102132\n",
            "Train Epoch: 3 [6400/60000 (11%)]\tLoss: 0.039930\n",
            "Train Epoch: 3 [12800/60000 (21%)]\tLoss: 0.185248\n",
            "Train Epoch: 3 [19200/60000 (32%)]\tLoss: 0.071779\n",
            "Train Epoch: 3 [25600/60000 (43%)]\tLoss: 0.199467\n",
            "Train Epoch: 3 [32000/60000 (53%)]\tLoss: 0.058888\n",
            "Train Epoch: 3 [38400/60000 (64%)]\tLoss: 0.032455\n",
            "Train Epoch: 3 [44800/60000 (75%)]\tLoss: 0.108091\n",
            "Train Epoch: 3 [51200/60000 (85%)]\tLoss: 0.065900\n",
            "Train Epoch: 3 [57600/60000 (96%)]\tLoss: 0.157038\n",
            "\n",
            "Train set: Average loss: 0.0541, Accuracy: 57922/60000 (96.5%)\n",
            "\n",
            "\n",
            "Test set: Average loss: 0.1111, Accuracy: 9660/10000 (96.600%)\n",
            "\n",
            "Train Epoch: 4 [0/60000 (0%)]\tLoss: 0.185287\n",
            "Train Epoch: 4 [6400/60000 (11%)]\tLoss: 0.097422\n",
            "Train Epoch: 4 [12800/60000 (21%)]\tLoss: 0.200176\n",
            "Train Epoch: 4 [19200/60000 (32%)]\tLoss: 0.050668\n",
            "Train Epoch: 4 [25600/60000 (43%)]\tLoss: 0.074041\n",
            "Train Epoch: 4 [32000/60000 (53%)]\tLoss: 0.008383\n",
            "Train Epoch: 4 [38400/60000 (64%)]\tLoss: 0.017134\n",
            "Train Epoch: 4 [44800/60000 (75%)]\tLoss: 0.068732\n",
            "Train Epoch: 4 [51200/60000 (85%)]\tLoss: 0.244754\n",
            "Train Epoch: 4 [57600/60000 (96%)]\tLoss: 0.052362\n",
            "\n",
            "Train set: Average loss: 0.0424, Accuracy: 58301/60000 (97.2%)\n",
            "\n",
            "\n",
            "Test set: Average loss: 0.0982, Accuracy: 9700/10000 (97.000%)\n",
            "\n",
            "Train Epoch: 5 [0/60000 (0%)]\tLoss: 0.059148\n",
            "Train Epoch: 5 [6400/60000 (11%)]\tLoss: 0.175415\n",
            "Train Epoch: 5 [12800/60000 (21%)]\tLoss: 0.112987\n",
            "Train Epoch: 5 [19200/60000 (32%)]\tLoss: 0.029365\n",
            "Train Epoch: 5 [25600/60000 (43%)]\tLoss: 0.013534\n",
            "Train Epoch: 5 [32000/60000 (53%)]\tLoss: 0.210823\n",
            "Train Epoch: 5 [38400/60000 (64%)]\tLoss: 0.010426\n",
            "Train Epoch: 5 [44800/60000 (75%)]\tLoss: 0.041986\n",
            "Train Epoch: 5 [51200/60000 (85%)]\tLoss: 0.185260\n",
            "Train Epoch: 5 [57600/60000 (96%)]\tLoss: 0.097262\n",
            "\n",
            "Train set: Average loss: 0.0235, Accuracy: 58562/60000 (97.6%)\n",
            "\n",
            "\n",
            "Test set: Average loss: 0.0985, Accuracy: 9701/10000 (97.010%)\n",
            "\n",
            "Train Epoch: 6 [0/60000 (0%)]\tLoss: 0.032788\n",
            "Train Epoch: 6 [6400/60000 (11%)]\tLoss: 0.026578\n",
            "Train Epoch: 6 [12800/60000 (21%)]\tLoss: 0.097783\n",
            "Train Epoch: 6 [19200/60000 (32%)]\tLoss: 0.013255\n",
            "Train Epoch: 6 [25600/60000 (43%)]\tLoss: 0.172153\n",
            "Train Epoch: 6 [32000/60000 (53%)]\tLoss: 0.022905\n",
            "Train Epoch: 6 [38400/60000 (64%)]\tLoss: 0.111540\n",
            "Train Epoch: 6 [44800/60000 (75%)]\tLoss: 0.003377\n",
            "Train Epoch: 6 [51200/60000 (85%)]\tLoss: 0.013688\n",
            "Train Epoch: 6 [57600/60000 (96%)]\tLoss: 0.184980\n",
            "\n",
            "Train set: Average loss: 0.0066, Accuracy: 58781/60000 (98.0%)\n",
            "\n",
            "\n",
            "Test set: Average loss: 0.1026, Accuracy: 9702/10000 (97.020%)\n",
            "\n",
            "Train Epoch: 7 [0/60000 (0%)]\tLoss: 0.042300\n",
            "Train Epoch: 7 [6400/60000 (11%)]\tLoss: 0.032340\n",
            "Train Epoch: 7 [12800/60000 (21%)]\tLoss: 0.041580\n",
            "Train Epoch: 7 [19200/60000 (32%)]\tLoss: 0.091271\n",
            "Train Epoch: 7 [25600/60000 (43%)]\tLoss: 0.052890\n",
            "Train Epoch: 7 [32000/60000 (53%)]\tLoss: 0.061871\n",
            "Train Epoch: 7 [38400/60000 (64%)]\tLoss: 0.027925\n",
            "Train Epoch: 7 [44800/60000 (75%)]\tLoss: 0.014311\n",
            "Train Epoch: 7 [51200/60000 (85%)]\tLoss: 0.024874\n",
            "Train Epoch: 7 [57600/60000 (96%)]\tLoss: 0.044058\n",
            "\n",
            "Train set: Average loss: 0.1189, Accuracy: 58839/60000 (98.1%)\n",
            "\n",
            "\n",
            "Test set: Average loss: 0.0983, Accuracy: 9704/10000 (97.040%)\n",
            "\n",
            "Train Epoch: 8 [0/60000 (0%)]\tLoss: 0.020825\n",
            "Train Epoch: 8 [6400/60000 (11%)]\tLoss: 0.010681\n",
            "Train Epoch: 8 [12800/60000 (21%)]\tLoss: 0.003343\n",
            "Train Epoch: 8 [19200/60000 (32%)]\tLoss: 0.031383\n",
            "Train Epoch: 8 [25600/60000 (43%)]\tLoss: 0.063209\n",
            "Train Epoch: 8 [32000/60000 (53%)]\tLoss: 0.158227\n",
            "Train Epoch: 8 [38400/60000 (64%)]\tLoss: 0.017764\n",
            "Train Epoch: 8 [44800/60000 (75%)]\tLoss: 0.027832\n",
            "Train Epoch: 8 [51200/60000 (85%)]\tLoss: 0.010434\n",
            "Train Epoch: 8 [57600/60000 (96%)]\tLoss: 0.176002\n",
            "\n",
            "Train set: Average loss: 0.0135, Accuracy: 58982/60000 (98.3%)\n",
            "\n",
            "\n",
            "Test set: Average loss: 0.1035, Accuracy: 9704/10000 (97.040%)\n",
            "\n",
            "Train Epoch: 9 [0/60000 (0%)]\tLoss: 0.014835\n",
            "Train Epoch: 9 [6400/60000 (11%)]\tLoss: 0.019586\n",
            "Train Epoch: 9 [12800/60000 (21%)]\tLoss: 0.017407\n",
            "Train Epoch: 9 [19200/60000 (32%)]\tLoss: 0.064948\n",
            "Train Epoch: 9 [25600/60000 (43%)]\tLoss: 0.132087\n",
            "Train Epoch: 9 [32000/60000 (53%)]\tLoss: 0.081323\n",
            "Train Epoch: 9 [38400/60000 (64%)]\tLoss: 0.002374\n",
            "Train Epoch: 9 [44800/60000 (75%)]\tLoss: 0.019456\n",
            "Train Epoch: 9 [51200/60000 (85%)]\tLoss: 0.025398\n",
            "Train Epoch: 9 [57600/60000 (96%)]\tLoss: 0.136530\n",
            "\n",
            "Train set: Average loss: 0.1547, Accuracy: 59078/60000 (98.5%)\n",
            "\n",
            "\n",
            "Test set: Average loss: 0.1083, Accuracy: 9700/10000 (97.000%)\n",
            "\n",
            "Train Epoch: 10 [0/60000 (0%)]\tLoss: 0.068067\n",
            "Train Epoch: 10 [6400/60000 (11%)]\tLoss: 0.061284\n",
            "Train Epoch: 10 [12800/60000 (21%)]\tLoss: 0.018797\n",
            "Train Epoch: 10 [19200/60000 (32%)]\tLoss: 0.025186\n",
            "Train Epoch: 10 [25600/60000 (43%)]\tLoss: 0.004678\n",
            "Train Epoch: 10 [32000/60000 (53%)]\tLoss: 0.011249\n",
            "Train Epoch: 10 [38400/60000 (64%)]\tLoss: 0.041628\n",
            "Train Epoch: 10 [44800/60000 (75%)]\tLoss: 0.010826\n",
            "Train Epoch: 10 [51200/60000 (85%)]\tLoss: 0.089893\n",
            "Train Epoch: 10 [57600/60000 (96%)]\tLoss: 0.041704\n",
            "\n",
            "Train set: Average loss: 0.0019, Accuracy: 59162/60000 (98.6%)\n",
            "\n",
            "\n",
            "Test set: Average loss: 0.1019, Accuracy: 9722/10000 (97.220%)\n",
            "\n",
            "Training is finished.\n"
          ]
        }
      ],
      "source": [
        "#########################################################################\n",
        "#TODO: modify the parameters below to see which setting that you can get to 97%\n",
        "#########################################################################\n",
        "nLayer = 4\n",
        "nHidden = 64\n",
        "act_fn = nn.ReLU()\n",
        "\n",
        "# reinitialize the mlp, so we can play with parameters right here\n",
        "mlp = MLP(nInput, nOutput, nLayer, nHidden, act_fn)\n",
        "optimizer = optim.Adam(mlp.parameters())\n",
        "\n",
        "epochs = 10\n",
        "for epoch in range(1, epochs + 1):\n",
        "    train(mlp, dl_train, optimizer, epoch, log_interval=100)\n",
        "    test(mlp, dl_test)\n",
        "\n",
        "print ('Training is finished.')"
      ]
    },
    {
      "cell_type": "markdown",
      "metadata": {
        "id": "WKQs4zNrYpO_"
      },
      "source": [
        "Before you move on to the next exercise, you can further play with the other parameters (learning rate, epochs, a different optimizer, etc.) to get a feeling what can improve or hamper performance."
      ]
    },
    {
      "cell_type": "markdown",
      "metadata": {
        "id": "g7wGDAoTYpO_"
      },
      "source": [
        "## CNN\n",
        "Alright, we matched our prior performance. Let's surpass it! You will soon see the power of CNN by building a small one yourself. The structure should be as follows\n",
        "\n",
        "| CNN Architecture                             \t|\n",
        "|----------------------------------------------\t|\n",
        "| Conv: $C_{in}=1, C_{out}=32, K=3, S=1, P=0$  \t|\n",
        "| ReLU                                         \t|\n",
        "| Conv: $C_{in}=32, C_{out}=64, K=3, S=1, P=0$ \t|\n",
        "| ReLU                                         \t|\n",
        "| MaxPool2d: $K=2, S=2, P=0$                   \t|\n",
        "| Dropout: $p=0.25$                            \t|\n",
        "| Linear: $C_{in}=9216, C_{out}=128$           \t|\n",
        "| ReLU                                         \t|\n",
        "| Dropout: $p=0.5$                             \t|\n",
        "| Linear: $C_{in}=128, C_{out}=10$             \t|\n",
        "\n",
        "The layers you will need are:\n",
        "\n",
        "`nn.Conv2d,  nn.Linear,  nn.Dropout, nn.MaxPool2d, nn.Flatten`\n",
        "\n",
        "For layers without parameters you can alternatively use function in the forward pass:  \n",
        "\n",
        "`F.max_pool2d, torch.flatten`"
      ]
    },
    {
      "cell_type": "code",
      "execution_count": 20,
      "metadata": {
        "id": "_dO6vaxDYpO_"
      },
      "outputs": [],
      "source": [
        "#########################################################################\n",
        "# TODO: Implement the __init__ and forward method of the CNN class.\n",
        "# Hint: do not forget to flatten the appropriate dimension after the convolutional blocks.\n",
        "# A linear layers expect input of the size (B, H) with batch size B and feature size H\n",
        "#########################################################################\n",
        "\n",
        "class CNN(nn.Module):\n",
        "    def __init__(self):\n",
        "        super(CNN, self).__init__()\n",
        "        self.conv1 = nn.Conv2d(1, 32, kernel_size=3, stride=1, padding=0)\n",
        "        self.conv2 = nn.Conv2d(32, 64, kernel_size=3, stride=1, padding=0)\n",
        "        self.dropout1 = nn.Dropout(0.25)\n",
        "        self.dropout2 = nn.Dropout(0.5)\n",
        "        self.fc1 = nn.Linear(64 * 12 * 12, 128)\n",
        "        self.fc2 = nn.Linear(128, 10)\n",
        "\n",
        "    def forward(self, x):\n",
        "        x = F.relu(self.conv1(x))\n",
        "        x = F.relu(self.conv2(x))\n",
        "        x = F.max_pool2d(x, kernel_size=2, stride=2, padding=0)\n",
        "        x = self.dropout1(x)\n",
        "        x = torch.flatten(x, 1)  # Flatten all dimensions except batch\n",
        "        x = F.relu(self.fc1(x))\n",
        "        x = self.dropout2(x)\n",
        "        x = self.fc2(x)\n",
        "        return x\n"
      ]
    },
    {
      "cell_type": "code",
      "execution_count": 21,
      "metadata": {
        "colab": {
          "base_uri": "https://localhost:8080/"
        },
        "id": "lHBKhynZYpPA",
        "outputId": "f2aecbd1-6d18-4dc4-cb85-615fe0e70747"
      },
      "outputs": [
        {
          "output_type": "execute_result",
          "data": {
            "text/plain": [
              "torch.Size([1, 10])"
            ]
          },
          "metadata": {},
          "execution_count": 21
        }
      ],
      "source": [
        "# Let's test if the forward pass works\n",
        "# this should print torch.Size([1, 10])\n",
        "t = torch.randn(1,1,28,28)\n",
        "cnn = CNN()\n",
        "cnn(t).shape"
      ]
    },
    {
      "cell_type": "markdown",
      "metadata": {
        "id": "-sLvZHnBYpPA"
      },
      "source": [
        "Alright, let's train!"
      ]
    },
    {
      "cell_type": "code",
      "execution_count": 22,
      "metadata": {
        "id": "25-KNc5iYpPA"
      },
      "outputs": [],
      "source": [
        "optimizer = optim.Adam(cnn.parameters())"
      ]
    },
    {
      "cell_type": "code",
      "execution_count": 23,
      "metadata": {
        "scrolled": true,
        "colab": {
          "base_uri": "https://localhost:8080/"
        },
        "id": "osXC60h9YpPE",
        "outputId": "62676c92-6648-4eb1-ac4f-6fe96fb97917"
      },
      "outputs": [
        {
          "output_type": "stream",
          "name": "stdout",
          "text": [
            "Train Epoch: 1 [0/60000 (0%)]\tLoss: 2.299515\n",
            "Train Epoch: 1 [6400/60000 (11%)]\tLoss: 0.542747\n",
            "Train Epoch: 1 [12800/60000 (21%)]\tLoss: 0.153123\n",
            "Train Epoch: 1 [19200/60000 (32%)]\tLoss: 0.242863\n",
            "Train Epoch: 1 [25600/60000 (43%)]\tLoss: 0.056430\n",
            "Train Epoch: 1 [32000/60000 (53%)]\tLoss: 0.087350\n",
            "Train Epoch: 1 [38400/60000 (64%)]\tLoss: 0.080406\n",
            "Train Epoch: 1 [44800/60000 (75%)]\tLoss: 0.065391\n",
            "Train Epoch: 1 [51200/60000 (85%)]\tLoss: 0.104956\n",
            "Train Epoch: 1 [57600/60000 (96%)]\tLoss: 0.071057\n",
            "\n",
            "Train set: Average loss: 0.0690, Accuracy: 56351/60000 (93.9%)\n",
            "\n",
            "\n",
            "Test set: Average loss: 0.0483, Accuracy: 9853/10000 (98.530%)\n",
            "\n",
            "Train Epoch: 2 [0/60000 (0%)]\tLoss: 0.156750\n",
            "Train Epoch: 2 [6400/60000 (11%)]\tLoss: 0.156216\n",
            "Train Epoch: 2 [12800/60000 (21%)]\tLoss: 0.061012\n",
            "Train Epoch: 2 [19200/60000 (32%)]\tLoss: 0.121622\n",
            "Train Epoch: 2 [25600/60000 (43%)]\tLoss: 0.084051\n",
            "Train Epoch: 2 [32000/60000 (53%)]\tLoss: 0.035236\n",
            "Train Epoch: 2 [38400/60000 (64%)]\tLoss: 0.116207\n",
            "Train Epoch: 2 [44800/60000 (75%)]\tLoss: 0.032930\n",
            "Train Epoch: 2 [51200/60000 (85%)]\tLoss: 0.014787\n",
            "Train Epoch: 2 [57600/60000 (96%)]\tLoss: 0.096102\n",
            "\n",
            "Train set: Average loss: 0.1027, Accuracy: 58562/60000 (97.6%)\n",
            "\n",
            "\n",
            "Test set: Average loss: 0.0365, Accuracy: 9883/10000 (98.830%)\n",
            "\n",
            "Train Epoch: 3 [0/60000 (0%)]\tLoss: 0.047139\n",
            "Train Epoch: 3 [6400/60000 (11%)]\tLoss: 0.011820\n",
            "Train Epoch: 3 [12800/60000 (21%)]\tLoss: 0.027187\n",
            "Train Epoch: 3 [19200/60000 (32%)]\tLoss: 0.134937\n",
            "Train Epoch: 3 [25600/60000 (43%)]\tLoss: 0.076888\n",
            "Train Epoch: 3 [32000/60000 (53%)]\tLoss: 0.035299\n",
            "Train Epoch: 3 [38400/60000 (64%)]\tLoss: 0.063783\n",
            "Train Epoch: 3 [44800/60000 (75%)]\tLoss: 0.037880\n",
            "Train Epoch: 3 [51200/60000 (85%)]\tLoss: 0.331123\n",
            "Train Epoch: 3 [57600/60000 (96%)]\tLoss: 0.096916\n",
            "\n",
            "Train set: Average loss: 0.0835, Accuracy: 58884/60000 (98.1%)\n",
            "\n",
            "\n",
            "Test set: Average loss: 0.0380, Accuracy: 9875/10000 (98.750%)\n",
            "\n",
            "Train Epoch: 4 [0/60000 (0%)]\tLoss: 0.053542\n",
            "Train Epoch: 4 [6400/60000 (11%)]\tLoss: 0.081629\n",
            "Train Epoch: 4 [12800/60000 (21%)]\tLoss: 0.038170\n",
            "Train Epoch: 4 [19200/60000 (32%)]\tLoss: 0.028482\n",
            "Train Epoch: 4 [25600/60000 (43%)]\tLoss: 0.011828\n",
            "Train Epoch: 4 [32000/60000 (53%)]\tLoss: 0.035439\n",
            "Train Epoch: 4 [38400/60000 (64%)]\tLoss: 0.046545\n",
            "Train Epoch: 4 [44800/60000 (75%)]\tLoss: 0.062561\n",
            "Train Epoch: 4 [51200/60000 (85%)]\tLoss: 0.034704\n",
            "Train Epoch: 4 [57600/60000 (96%)]\tLoss: 0.014879\n",
            "\n",
            "Train set: Average loss: 0.1271, Accuracy: 59020/60000 (98.4%)\n",
            "\n",
            "\n",
            "Test set: Average loss: 0.0323, Accuracy: 9897/10000 (98.970%)\n",
            "\n",
            "Train Epoch: 5 [0/60000 (0%)]\tLoss: 0.011590\n",
            "Train Epoch: 5 [6400/60000 (11%)]\tLoss: 0.023783\n",
            "Train Epoch: 5 [12800/60000 (21%)]\tLoss: 0.011538\n",
            "Train Epoch: 5 [19200/60000 (32%)]\tLoss: 0.006969\n",
            "Train Epoch: 5 [25600/60000 (43%)]\tLoss: 0.086270\n",
            "Train Epoch: 5 [32000/60000 (53%)]\tLoss: 0.070650\n",
            "Train Epoch: 5 [38400/60000 (64%)]\tLoss: 0.039387\n",
            "Train Epoch: 5 [44800/60000 (75%)]\tLoss: 0.052552\n",
            "Train Epoch: 5 [51200/60000 (85%)]\tLoss: 0.024811\n",
            "Train Epoch: 5 [57600/60000 (96%)]\tLoss: 0.077706\n",
            "\n",
            "Train set: Average loss: 0.0598, Accuracy: 59178/60000 (98.6%)\n",
            "\n",
            "\n",
            "Test set: Average loss: 0.0298, Accuracy: 9909/10000 (99.090%)\n",
            "\n"
          ]
        }
      ],
      "source": [
        "epochs = 5\n",
        "for epoch in range(1, epochs + 1):\n",
        "    train(cnn, dl_train, optimizer, epoch, log_interval=100)\n",
        "    test(cnn, dl_test)"
      ]
    },
    {
      "cell_type": "markdown",
      "metadata": {
        "id": "V1Lysn3-YpPE"
      },
      "source": [
        "This will probably take a bit longer to train, as a convolutional network is not very efficient on a CPU. The current settings should get you around **99%** accuracy. Nice!\n",
        "Again, you should try different hyperparameters and see how far you can push the performance."
      ]
    },
    {
      "cell_type": "markdown",
      "metadata": {
        "id": "3T_LxHxwYpPE"
      },
      "source": [
        "### Inline Question\n",
        "\n",
        "If your model weight is randomly initalized, and no training is done as above. What accuracy do you think the model will get for a 10-class classification task in theory?\n",
        "\n",
        "**Your answer**: 10%\n"
      ]
    },
    {
      "cell_type": "markdown",
      "metadata": {
        "id": "zHhX1krRYpPE"
      },
      "source": [
        "## Training on CIFAR10\n",
        "\n",
        "Now we are going to move to something more challenging - CIFAR10. We can reuse most of the code above. Thankfully, CIFAR is also a popular dataset, so we can again make use of a PyTorch convience function."
      ]
    },
    {
      "cell_type": "code",
      "execution_count": 24,
      "metadata": {
        "colab": {
          "base_uri": "https://localhost:8080/"
        },
        "id": "CP4sc4cKYpPE",
        "outputId": "eba276d2-5ea8-44c6-bb51-51d0171a9252"
      },
      "outputs": [
        {
          "output_type": "stream",
          "name": "stdout",
          "text": [
            "Downloading https://www.cs.toronto.edu/~kriz/cifar-10-python.tar.gz to ./data/cifar-10-python.tar.gz\n"
          ]
        },
        {
          "output_type": "stream",
          "name": "stderr",
          "text": [
            "100%|██████████| 170498071/170498071 [00:02<00:00, 76305542.52it/s]\n"
          ]
        },
        {
          "output_type": "stream",
          "name": "stdout",
          "text": [
            "Extracting ./data/cifar-10-python.tar.gz to ./data\n"
          ]
        }
      ],
      "source": [
        "ds_train = datasets.CIFAR10(root='./data', train=True, download=True)"
      ]
    },
    {
      "cell_type": "markdown",
      "metadata": {
        "id": "XkqCkjshYpPF"
      },
      "source": [
        "This dataset is not normalized yet, so we need to calculate the normalization constants."
      ]
    },
    {
      "cell_type": "code",
      "execution_count": 25,
      "metadata": {
        "id": "8cXQvak3YpPF"
      },
      "outputs": [],
      "source": [
        "ims_train = torch.tensor(ds_train.data)\n",
        "ims_train = ims_train.float() / 255."
      ]
    },
    {
      "cell_type": "code",
      "execution_count": 26,
      "metadata": {
        "colab": {
          "base_uri": "https://localhost:8080/"
        },
        "id": "H3p3js-yYpPF",
        "outputId": "81cd74f7-1e75-4bfd-b9d5-8f5edb7b4d98"
      },
      "outputs": [
        {
          "output_type": "execute_result",
          "data": {
            "text/plain": [
              "tensor([0.2470, 0.2435, 0.2616])"
            ]
          },
          "metadata": {},
          "execution_count": 26
        }
      ],
      "source": [
        "ims_train.std((0,1,2))"
      ]
    },
    {
      "cell_type": "code",
      "execution_count": 27,
      "metadata": {
        "id": "AgX7cagTYpPF"
      },
      "outputs": [],
      "source": [
        "#########################################################################\n",
        "# TODO: calculate the mean and std of CIFAR\n",
        "# hint: We want the mean and std of the channel dimension, these should\n",
        "# be 3 dimensional\n",
        "#########################################################################\n",
        "mu = ims_train.mean((0,1,2))\n",
        "std = ims_train.std((0,1,2))\n"
      ]
    },
    {
      "cell_type": "code",
      "execution_count": 28,
      "metadata": {
        "colab": {
          "base_uri": "https://localhost:8080/"
        },
        "id": "IkQI5qYoYpPF",
        "outputId": "f5365c7d-df2f-4e08-cf8b-a5a5f055a622"
      },
      "outputs": [
        {
          "output_type": "execute_result",
          "data": {
            "text/plain": [
              "tensor([0.4914, 0.4822, 0.4465])"
            ]
          },
          "metadata": {},
          "execution_count": 28
        }
      ],
      "source": [
        "torch.mean(ims_train, dim=(0,1,2))"
      ]
    },
    {
      "cell_type": "markdown",
      "metadata": {
        "id": "GvRMnKkIYpPF"
      },
      "source": [
        "For CIFAR we want to make use of data augmentation to improve generalization. You will find all data augmentations data are included in torchvision here:\n",
        "\n",
        "https://pytorch.org/docs/stable/torchvision/transforms.html"
      ]
    },
    {
      "cell_type": "code",
      "execution_count": 29,
      "metadata": {
        "colab": {
          "base_uri": "https://localhost:8080/"
        },
        "id": "BP0jb__xYpPF",
        "outputId": "fa90f7cc-a2ad-4356-caff-e42404fe4e76"
      },
      "outputs": [
        {
          "output_type": "stream",
          "name": "stdout",
          "text": [
            "Files already downloaded and verified\n",
            "Files already downloaded and verified\n"
          ]
        }
      ],
      "source": [
        "BATCH_SIZE = 128\n",
        "NUM_WORKERS = 4 # if you encounter some unexpected errors in data loading, try setting `NUM_WORKERS = 0`\n",
        "#########################################################################\n",
        "# TODO: Implement the proper transforms for the training and test dataloaders.\n",
        "# Then build train and test dataloaders with batch size 128 and 4 workers\n",
        "#\n",
        "# Train:\n",
        "# - Apply a random crop with size 32 on a padded version of the image with P=4\n",
        "# - Flip the image horizontally with a probability of 40 %\n",
        "# - Transform to a Tensor\n",
        "# - Normalize with the constants calculated above\n",
        "# Test:\n",
        "# - Transform to a Tensor\n",
        "# - Normalize with the constants calculated above\n",
        "#########################################################################\n",
        "# Data Augmentation for training data\n",
        "transform_train = transforms.Compose([\n",
        "    transforms.RandomCrop(32, padding=4),\n",
        "    transforms.RandomHorizontalFlip(p=0.4),\n",
        "    transforms.ToTensor(),\n",
        "    transforms.Normalize(mu, std)\n",
        "])\n",
        "# Transformation for test data\n",
        "transform_test = transforms.Compose([\n",
        "    transforms.ToTensor(),\n",
        "    transforms.Normalize(mu, std)\n",
        "])\n",
        "\n",
        "ds_train = datasets.CIFAR10('./data', train=True, download=True, transform=transform_train)\n",
        "ds_test = datasets.CIFAR10('./data', train=False, download=True, transform=transform_test)\n",
        "\n",
        "dl_train = DataLoader(ds_train, batch_size=BATCH_SIZE, shuffle=True, num_workers=NUM_WORKERS)\n",
        "dl_test = DataLoader(ds_test, batch_size=BATCH_SIZE, shuffle=False, num_workers=NUM_WORKERS)"
      ]
    },
    {
      "cell_type": "markdown",
      "metadata": {
        "id": "FtSTGWTXYpPF"
      },
      "source": [
        "Setting up the  optimizer, this time we use SGD. The scheduler adapts the learning rate during traing (you can ignore it)"
      ]
    },
    {
      "cell_type": "code",
      "execution_count": 30,
      "metadata": {
        "id": "zXZNgqWnYpPF"
      },
      "outputs": [],
      "source": [
        "cnn = CNN()\n",
        "optimizer = optim.SGD(cnn.parameters(), lr=0.1, momentum=0.9, weight_decay=5e-4)\n",
        "scheduler = torch.optim.lr_scheduler.CosineAnnealingLR(optimizer, T_max=200)"
      ]
    },
    {
      "cell_type": "code",
      "execution_count": 31,
      "metadata": {
        "scrolled": true,
        "colab": {
          "base_uri": "https://localhost:8080/",
          "height": 391
        },
        "id": "QiddGSovYpPF",
        "outputId": "0b176142-18be-469f-b635-bbc0c9b59d9a"
      },
      "outputs": [
        {
          "output_type": "error",
          "ename": "RuntimeError",
          "evalue": "ignored",
          "traceback": [
            "\u001b[0;31m---------------------------------------------------------------------------\u001b[0m",
            "\u001b[0;31mRuntimeError\u001b[0m                              Traceback (most recent call last)",
            "\u001b[0;32m<ipython-input-31-28786c5bfd6c>\u001b[0m in \u001b[0;36m<cell line: 2>\u001b[0;34m()\u001b[0m\n\u001b[1;32m      1\u001b[0m \u001b[0mepochs\u001b[0m \u001b[0;34m=\u001b[0m \u001b[0;36m5\u001b[0m\u001b[0;34m\u001b[0m\u001b[0;34m\u001b[0m\u001b[0m\n\u001b[1;32m      2\u001b[0m \u001b[0;32mfor\u001b[0m \u001b[0mepoch\u001b[0m \u001b[0;32min\u001b[0m \u001b[0mrange\u001b[0m\u001b[0;34m(\u001b[0m\u001b[0;36m1\u001b[0m\u001b[0;34m,\u001b[0m \u001b[0mepochs\u001b[0m \u001b[0;34m+\u001b[0m \u001b[0;36m1\u001b[0m\u001b[0;34m)\u001b[0m\u001b[0;34m:\u001b[0m\u001b[0;34m\u001b[0m\u001b[0;34m\u001b[0m\u001b[0m\n\u001b[0;32m----> 3\u001b[0;31m     \u001b[0mtrain\u001b[0m\u001b[0;34m(\u001b[0m\u001b[0mcnn\u001b[0m\u001b[0;34m,\u001b[0m \u001b[0mdl_train\u001b[0m\u001b[0;34m,\u001b[0m \u001b[0moptimizer\u001b[0m\u001b[0;34m,\u001b[0m \u001b[0mepoch\u001b[0m\u001b[0;34m,\u001b[0m \u001b[0mlog_interval\u001b[0m\u001b[0;34m=\u001b[0m\u001b[0;36m100\u001b[0m\u001b[0;34m)\u001b[0m\u001b[0;34m\u001b[0m\u001b[0;34m\u001b[0m\u001b[0m\n\u001b[0m\u001b[1;32m      4\u001b[0m     \u001b[0mtest\u001b[0m\u001b[0;34m(\u001b[0m\u001b[0mcnn\u001b[0m\u001b[0;34m,\u001b[0m \u001b[0mdl_test\u001b[0m\u001b[0;34m)\u001b[0m\u001b[0;34m\u001b[0m\u001b[0;34m\u001b[0m\u001b[0m\n\u001b[1;32m      5\u001b[0m     \u001b[0mscheduler\u001b[0m\u001b[0;34m.\u001b[0m\u001b[0mstep\u001b[0m\u001b[0;34m(\u001b[0m\u001b[0;34m)\u001b[0m\u001b[0;34m\u001b[0m\u001b[0;34m\u001b[0m\u001b[0m\n",
            "\u001b[0;32m<ipython-input-16-3b6163882641>\u001b[0m in \u001b[0;36mtrain\u001b[0;34m(model, dl_train, optimizer, epoch, log_interval, device)\u001b[0m\n\u001b[1;32m     15\u001b[0m \u001b[0;34m\u001b[0m\u001b[0m\n\u001b[1;32m     16\u001b[0m         \u001b[0;31m##### implement this part #####\u001b[0m\u001b[0;34m\u001b[0m\u001b[0;34m\u001b[0m\u001b[0m\n\u001b[0;32m---> 17\u001b[0;31m         \u001b[0moutput\u001b[0m \u001b[0;34m=\u001b[0m \u001b[0mmodel\u001b[0m\u001b[0;34m(\u001b[0m\u001b[0mdata\u001b[0m\u001b[0;34m)\u001b[0m\u001b[0;34m\u001b[0m\u001b[0;34m\u001b[0m\u001b[0m\n\u001b[0m\u001b[1;32m     18\u001b[0m         \u001b[0mloss\u001b[0m \u001b[0;34m=\u001b[0m \u001b[0mF\u001b[0m\u001b[0;34m.\u001b[0m\u001b[0mcross_entropy\u001b[0m\u001b[0;34m(\u001b[0m\u001b[0moutput\u001b[0m\u001b[0;34m,\u001b[0m \u001b[0mtarget\u001b[0m\u001b[0;34m)\u001b[0m\u001b[0;34m\u001b[0m\u001b[0;34m\u001b[0m\u001b[0m\n\u001b[1;32m     19\u001b[0m         \u001b[0mloss\u001b[0m\u001b[0;34m.\u001b[0m\u001b[0mbackward\u001b[0m\u001b[0;34m(\u001b[0m\u001b[0;34m)\u001b[0m\u001b[0;34m\u001b[0m\u001b[0;34m\u001b[0m\u001b[0m\n",
            "\u001b[0;32m/usr/local/lib/python3.10/dist-packages/torch/nn/modules/module.py\u001b[0m in \u001b[0;36m_wrapped_call_impl\u001b[0;34m(self, *args, **kwargs)\u001b[0m\n\u001b[1;32m   1516\u001b[0m             \u001b[0;32mreturn\u001b[0m \u001b[0mself\u001b[0m\u001b[0;34m.\u001b[0m\u001b[0m_compiled_call_impl\u001b[0m\u001b[0;34m(\u001b[0m\u001b[0;34m*\u001b[0m\u001b[0margs\u001b[0m\u001b[0;34m,\u001b[0m \u001b[0;34m**\u001b[0m\u001b[0mkwargs\u001b[0m\u001b[0;34m)\u001b[0m  \u001b[0;31m# type: ignore[misc]\u001b[0m\u001b[0;34m\u001b[0m\u001b[0;34m\u001b[0m\u001b[0m\n\u001b[1;32m   1517\u001b[0m         \u001b[0;32melse\u001b[0m\u001b[0;34m:\u001b[0m\u001b[0;34m\u001b[0m\u001b[0;34m\u001b[0m\u001b[0m\n\u001b[0;32m-> 1518\u001b[0;31m             \u001b[0;32mreturn\u001b[0m \u001b[0mself\u001b[0m\u001b[0;34m.\u001b[0m\u001b[0m_call_impl\u001b[0m\u001b[0;34m(\u001b[0m\u001b[0;34m*\u001b[0m\u001b[0margs\u001b[0m\u001b[0;34m,\u001b[0m \u001b[0;34m**\u001b[0m\u001b[0mkwargs\u001b[0m\u001b[0;34m)\u001b[0m\u001b[0;34m\u001b[0m\u001b[0;34m\u001b[0m\u001b[0m\n\u001b[0m\u001b[1;32m   1519\u001b[0m \u001b[0;34m\u001b[0m\u001b[0m\n\u001b[1;32m   1520\u001b[0m     \u001b[0;32mdef\u001b[0m \u001b[0m_call_impl\u001b[0m\u001b[0;34m(\u001b[0m\u001b[0mself\u001b[0m\u001b[0;34m,\u001b[0m \u001b[0;34m*\u001b[0m\u001b[0margs\u001b[0m\u001b[0;34m,\u001b[0m \u001b[0;34m**\u001b[0m\u001b[0mkwargs\u001b[0m\u001b[0;34m)\u001b[0m\u001b[0;34m:\u001b[0m\u001b[0;34m\u001b[0m\u001b[0;34m\u001b[0m\u001b[0m\n",
            "\u001b[0;32m/usr/local/lib/python3.10/dist-packages/torch/nn/modules/module.py\u001b[0m in \u001b[0;36m_call_impl\u001b[0;34m(self, *args, **kwargs)\u001b[0m\n\u001b[1;32m   1525\u001b[0m                 \u001b[0;32mor\u001b[0m \u001b[0m_global_backward_pre_hooks\u001b[0m \u001b[0;32mor\u001b[0m \u001b[0m_global_backward_hooks\u001b[0m\u001b[0;34m\u001b[0m\u001b[0;34m\u001b[0m\u001b[0m\n\u001b[1;32m   1526\u001b[0m                 or _global_forward_hooks or _global_forward_pre_hooks):\n\u001b[0;32m-> 1527\u001b[0;31m             \u001b[0;32mreturn\u001b[0m \u001b[0mforward_call\u001b[0m\u001b[0;34m(\u001b[0m\u001b[0;34m*\u001b[0m\u001b[0margs\u001b[0m\u001b[0;34m,\u001b[0m \u001b[0;34m**\u001b[0m\u001b[0mkwargs\u001b[0m\u001b[0;34m)\u001b[0m\u001b[0;34m\u001b[0m\u001b[0;34m\u001b[0m\u001b[0m\n\u001b[0m\u001b[1;32m   1528\u001b[0m \u001b[0;34m\u001b[0m\u001b[0m\n\u001b[1;32m   1529\u001b[0m         \u001b[0;32mtry\u001b[0m\u001b[0;34m:\u001b[0m\u001b[0;34m\u001b[0m\u001b[0;34m\u001b[0m\u001b[0m\n",
            "\u001b[0;32m<ipython-input-20-798303025ddf>\u001b[0m in \u001b[0;36mforward\u001b[0;34m(self, x)\u001b[0m\n\u001b[1;32m     16\u001b[0m \u001b[0;34m\u001b[0m\u001b[0m\n\u001b[1;32m     17\u001b[0m     \u001b[0;32mdef\u001b[0m \u001b[0mforward\u001b[0m\u001b[0;34m(\u001b[0m\u001b[0mself\u001b[0m\u001b[0;34m,\u001b[0m \u001b[0mx\u001b[0m\u001b[0;34m)\u001b[0m\u001b[0;34m:\u001b[0m\u001b[0;34m\u001b[0m\u001b[0;34m\u001b[0m\u001b[0m\n\u001b[0;32m---> 18\u001b[0;31m         \u001b[0mx\u001b[0m \u001b[0;34m=\u001b[0m \u001b[0mF\u001b[0m\u001b[0;34m.\u001b[0m\u001b[0mrelu\u001b[0m\u001b[0;34m(\u001b[0m\u001b[0mself\u001b[0m\u001b[0;34m.\u001b[0m\u001b[0mconv1\u001b[0m\u001b[0;34m(\u001b[0m\u001b[0mx\u001b[0m\u001b[0;34m)\u001b[0m\u001b[0;34m)\u001b[0m\u001b[0;34m\u001b[0m\u001b[0;34m\u001b[0m\u001b[0m\n\u001b[0m\u001b[1;32m     19\u001b[0m         \u001b[0mx\u001b[0m \u001b[0;34m=\u001b[0m \u001b[0mF\u001b[0m\u001b[0;34m.\u001b[0m\u001b[0mrelu\u001b[0m\u001b[0;34m(\u001b[0m\u001b[0mself\u001b[0m\u001b[0;34m.\u001b[0m\u001b[0mconv2\u001b[0m\u001b[0;34m(\u001b[0m\u001b[0mx\u001b[0m\u001b[0;34m)\u001b[0m\u001b[0;34m)\u001b[0m\u001b[0;34m\u001b[0m\u001b[0;34m\u001b[0m\u001b[0m\n\u001b[1;32m     20\u001b[0m         \u001b[0mx\u001b[0m \u001b[0;34m=\u001b[0m \u001b[0mF\u001b[0m\u001b[0;34m.\u001b[0m\u001b[0mmax_pool2d\u001b[0m\u001b[0;34m(\u001b[0m\u001b[0mx\u001b[0m\u001b[0;34m,\u001b[0m \u001b[0mkernel_size\u001b[0m\u001b[0;34m=\u001b[0m\u001b[0;36m2\u001b[0m\u001b[0;34m,\u001b[0m \u001b[0mstride\u001b[0m\u001b[0;34m=\u001b[0m\u001b[0;36m2\u001b[0m\u001b[0;34m,\u001b[0m \u001b[0mpadding\u001b[0m\u001b[0;34m=\u001b[0m\u001b[0;36m0\u001b[0m\u001b[0;34m)\u001b[0m\u001b[0;34m\u001b[0m\u001b[0;34m\u001b[0m\u001b[0m\n",
            "\u001b[0;32m/usr/local/lib/python3.10/dist-packages/torch/nn/modules/module.py\u001b[0m in \u001b[0;36m_wrapped_call_impl\u001b[0;34m(self, *args, **kwargs)\u001b[0m\n\u001b[1;32m   1516\u001b[0m             \u001b[0;32mreturn\u001b[0m \u001b[0mself\u001b[0m\u001b[0;34m.\u001b[0m\u001b[0m_compiled_call_impl\u001b[0m\u001b[0;34m(\u001b[0m\u001b[0;34m*\u001b[0m\u001b[0margs\u001b[0m\u001b[0;34m,\u001b[0m \u001b[0;34m**\u001b[0m\u001b[0mkwargs\u001b[0m\u001b[0;34m)\u001b[0m  \u001b[0;31m# type: ignore[misc]\u001b[0m\u001b[0;34m\u001b[0m\u001b[0;34m\u001b[0m\u001b[0m\n\u001b[1;32m   1517\u001b[0m         \u001b[0;32melse\u001b[0m\u001b[0;34m:\u001b[0m\u001b[0;34m\u001b[0m\u001b[0;34m\u001b[0m\u001b[0m\n\u001b[0;32m-> 1518\u001b[0;31m             \u001b[0;32mreturn\u001b[0m \u001b[0mself\u001b[0m\u001b[0;34m.\u001b[0m\u001b[0m_call_impl\u001b[0m\u001b[0;34m(\u001b[0m\u001b[0;34m*\u001b[0m\u001b[0margs\u001b[0m\u001b[0;34m,\u001b[0m \u001b[0;34m**\u001b[0m\u001b[0mkwargs\u001b[0m\u001b[0;34m)\u001b[0m\u001b[0;34m\u001b[0m\u001b[0;34m\u001b[0m\u001b[0m\n\u001b[0m\u001b[1;32m   1519\u001b[0m \u001b[0;34m\u001b[0m\u001b[0m\n\u001b[1;32m   1520\u001b[0m     \u001b[0;32mdef\u001b[0m \u001b[0m_call_impl\u001b[0m\u001b[0;34m(\u001b[0m\u001b[0mself\u001b[0m\u001b[0;34m,\u001b[0m \u001b[0;34m*\u001b[0m\u001b[0margs\u001b[0m\u001b[0;34m,\u001b[0m \u001b[0;34m**\u001b[0m\u001b[0mkwargs\u001b[0m\u001b[0;34m)\u001b[0m\u001b[0;34m:\u001b[0m\u001b[0;34m\u001b[0m\u001b[0;34m\u001b[0m\u001b[0m\n",
            "\u001b[0;32m/usr/local/lib/python3.10/dist-packages/torch/nn/modules/module.py\u001b[0m in \u001b[0;36m_call_impl\u001b[0;34m(self, *args, **kwargs)\u001b[0m\n\u001b[1;32m   1525\u001b[0m                 \u001b[0;32mor\u001b[0m \u001b[0m_global_backward_pre_hooks\u001b[0m \u001b[0;32mor\u001b[0m \u001b[0m_global_backward_hooks\u001b[0m\u001b[0;34m\u001b[0m\u001b[0;34m\u001b[0m\u001b[0m\n\u001b[1;32m   1526\u001b[0m                 or _global_forward_hooks or _global_forward_pre_hooks):\n\u001b[0;32m-> 1527\u001b[0;31m             \u001b[0;32mreturn\u001b[0m \u001b[0mforward_call\u001b[0m\u001b[0;34m(\u001b[0m\u001b[0;34m*\u001b[0m\u001b[0margs\u001b[0m\u001b[0;34m,\u001b[0m \u001b[0;34m**\u001b[0m\u001b[0mkwargs\u001b[0m\u001b[0;34m)\u001b[0m\u001b[0;34m\u001b[0m\u001b[0;34m\u001b[0m\u001b[0m\n\u001b[0m\u001b[1;32m   1528\u001b[0m \u001b[0;34m\u001b[0m\u001b[0m\n\u001b[1;32m   1529\u001b[0m         \u001b[0;32mtry\u001b[0m\u001b[0;34m:\u001b[0m\u001b[0;34m\u001b[0m\u001b[0;34m\u001b[0m\u001b[0m\n",
            "\u001b[0;32m/usr/local/lib/python3.10/dist-packages/torch/nn/modules/conv.py\u001b[0m in \u001b[0;36mforward\u001b[0;34m(self, input)\u001b[0m\n\u001b[1;32m    458\u001b[0m \u001b[0;34m\u001b[0m\u001b[0m\n\u001b[1;32m    459\u001b[0m     \u001b[0;32mdef\u001b[0m \u001b[0mforward\u001b[0m\u001b[0;34m(\u001b[0m\u001b[0mself\u001b[0m\u001b[0;34m,\u001b[0m \u001b[0minput\u001b[0m\u001b[0;34m:\u001b[0m \u001b[0mTensor\u001b[0m\u001b[0;34m)\u001b[0m \u001b[0;34m->\u001b[0m \u001b[0mTensor\u001b[0m\u001b[0;34m:\u001b[0m\u001b[0;34m\u001b[0m\u001b[0;34m\u001b[0m\u001b[0m\n\u001b[0;32m--> 460\u001b[0;31m         \u001b[0;32mreturn\u001b[0m \u001b[0mself\u001b[0m\u001b[0;34m.\u001b[0m\u001b[0m_conv_forward\u001b[0m\u001b[0;34m(\u001b[0m\u001b[0minput\u001b[0m\u001b[0;34m,\u001b[0m \u001b[0mself\u001b[0m\u001b[0;34m.\u001b[0m\u001b[0mweight\u001b[0m\u001b[0;34m,\u001b[0m \u001b[0mself\u001b[0m\u001b[0;34m.\u001b[0m\u001b[0mbias\u001b[0m\u001b[0;34m)\u001b[0m\u001b[0;34m\u001b[0m\u001b[0;34m\u001b[0m\u001b[0m\n\u001b[0m\u001b[1;32m    461\u001b[0m \u001b[0;34m\u001b[0m\u001b[0m\n\u001b[1;32m    462\u001b[0m \u001b[0;32mclass\u001b[0m \u001b[0mConv3d\u001b[0m\u001b[0;34m(\u001b[0m\u001b[0m_ConvNd\u001b[0m\u001b[0;34m)\u001b[0m\u001b[0;34m:\u001b[0m\u001b[0;34m\u001b[0m\u001b[0;34m\u001b[0m\u001b[0m\n",
            "\u001b[0;32m/usr/local/lib/python3.10/dist-packages/torch/nn/modules/conv.py\u001b[0m in \u001b[0;36m_conv_forward\u001b[0;34m(self, input, weight, bias)\u001b[0m\n\u001b[1;32m    454\u001b[0m                             \u001b[0mweight\u001b[0m\u001b[0;34m,\u001b[0m \u001b[0mbias\u001b[0m\u001b[0;34m,\u001b[0m \u001b[0mself\u001b[0m\u001b[0;34m.\u001b[0m\u001b[0mstride\u001b[0m\u001b[0;34m,\u001b[0m\u001b[0;34m\u001b[0m\u001b[0;34m\u001b[0m\u001b[0m\n\u001b[1;32m    455\u001b[0m                             _pair(0), self.dilation, self.groups)\n\u001b[0;32m--> 456\u001b[0;31m         return F.conv2d(input, weight, bias, self.stride,\n\u001b[0m\u001b[1;32m    457\u001b[0m                         self.padding, self.dilation, self.groups)\n\u001b[1;32m    458\u001b[0m \u001b[0;34m\u001b[0m\u001b[0m\n",
            "\u001b[0;31mRuntimeError\u001b[0m: Given groups=1, weight of size [32, 1, 3, 3], expected input[128, 3, 32, 32] to have 1 channels, but got 3 channels instead"
          ]
        }
      ],
      "source": [
        "epochs = 5\n",
        "for epoch in range(1, epochs + 1):\n",
        "    train(cnn, dl_train, optimizer, epoch, log_interval=100)\n",
        "    test(cnn, dl_test)\n",
        "    scheduler.step()"
      ]
    },
    {
      "cell_type": "markdown",
      "metadata": {
        "id": "m4FZV2jaYpPF"
      },
      "source": [
        "This will not work. You should see the following error message\n",
        "\n",
        "```\n",
        "Given groups=1, weight of size [32, 1, 3, 3], expected input[128, 3, 32, 32] to have 1 channels, but got 3 channels instead\n",
        "```\n",
        "\n",
        "This error is telling us that something is not right in the definition of our model. Copy the CNN class from above and make changes, so the training works."
      ]
    },
    {
      "cell_type": "code",
      "execution_count": 32,
      "metadata": {
        "id": "U1_-JfD6YpPF"
      },
      "outputs": [],
      "source": [
        "#########################################################################\n",
        "# TODO: Adapt the definition from the CNN class above to work on CIFAR.\n",
        "# You can copy and run the following prompt for evaluation:\n",
        "# CNN()(torch.randn(1,3,32,32)).shape\n",
        "# It should print 'torch.Size([1, 10])'\n",
        "# Hint: You need to change 2 things.\n",
        "#########################################################################\n",
        "\n",
        "class CNN(nn.Module):\n",
        "    def __init__(self):\n",
        "        super(CNN, self).__init__()\n",
        "        self.conv1 = nn.Conv2d(3, 32, kernel_size=3, stride=1, padding=0)\n",
        "        self.conv2 = nn.Conv2d(32, 64, kernel_size=3, stride=1, padding=0)\n",
        "        self.dropout1 = nn.Dropout(0.25)\n",
        "        self.dropout2 = nn.Dropout(0.5)\n",
        "        self.fc1 = nn.Linear(64*14*14, 128)\n",
        "        self.fc2 = nn.Linear(128, 10)\n",
        "\n",
        "    def forward(self, x):\n",
        "        x = F.relu(self.conv1(x))\n",
        "        x = F.relu(self.conv2(x))\n",
        "        x = F.max_pool2d(x, kernel_size=2, stride=2, padding=0)\n",
        "        x = self.dropout1(x)\n",
        "        x = torch.flatten(x, 1) # Flatten all dimensions except batch\n",
        "        x = F.relu(self.fc1(x))\n",
        "        x = self.dropout2(x)\n",
        "        x = self.fc2(x)\n",
        "        return x"
      ]
    },
    {
      "cell_type": "markdown",
      "metadata": {
        "id": "7TyevIhNYpPF"
      },
      "source": [
        "Let's try again"
      ]
    },
    {
      "cell_type": "code",
      "execution_count": 33,
      "metadata": {
        "scrolled": true,
        "colab": {
          "base_uri": "https://localhost:8080/"
        },
        "id": "ZgIEhxM9YpPG",
        "outputId": "a00ee500-10bf-4a8f-bca7-f45edf5a732e"
      },
      "outputs": [
        {
          "output_type": "stream",
          "name": "stdout",
          "text": [
            "Train Epoch: 1 [0/50000 (0%)]\tLoss: 2.290322\n",
            "Train Epoch: 1 [12800/50000 (26%)]\tLoss: 2.116563\n",
            "Train Epoch: 1 [25600/50000 (51%)]\tLoss: 2.070605\n",
            "Train Epoch: 1 [38400/50000 (77%)]\tLoss: 1.789971\n",
            "\n",
            "Train set: Average loss: 1.8678, Accuracy: 13108/50000 (26.2%)\n",
            "\n",
            "\n",
            "Test set: Average loss: 1.6349, Accuracy: 3962/10000 (39.620%)\n",
            "\n",
            "Train Epoch: 2 [0/50000 (0%)]\tLoss: 1.802848\n",
            "Train Epoch: 2 [12800/50000 (26%)]\tLoss: 1.828679\n",
            "Train Epoch: 2 [25600/50000 (51%)]\tLoss: 2.010016\n",
            "Train Epoch: 2 [38400/50000 (77%)]\tLoss: 1.753566\n",
            "\n",
            "Train set: Average loss: 1.7788, Accuracy: 17160/50000 (34.3%)\n",
            "\n",
            "\n",
            "Test set: Average loss: 1.6052, Accuracy: 4219/10000 (42.190%)\n",
            "\n",
            "Train Epoch: 3 [0/50000 (0%)]\tLoss: 1.706250\n",
            "Train Epoch: 3 [12800/50000 (26%)]\tLoss: 1.872756\n",
            "Train Epoch: 3 [25600/50000 (51%)]\tLoss: 1.829497\n",
            "Train Epoch: 3 [38400/50000 (77%)]\tLoss: 1.826399\n",
            "\n",
            "Train set: Average loss: 1.8177, Accuracy: 18013/50000 (36.0%)\n",
            "\n",
            "\n",
            "Test set: Average loss: 1.5261, Accuracy: 4409/10000 (44.090%)\n",
            "\n",
            "Train Epoch: 4 [0/50000 (0%)]\tLoss: 1.806030\n",
            "Train Epoch: 4 [12800/50000 (26%)]\tLoss: 1.552503\n",
            "Train Epoch: 4 [25600/50000 (51%)]\tLoss: 1.657705\n",
            "Train Epoch: 4 [38400/50000 (77%)]\tLoss: 1.720644\n",
            "\n",
            "Train set: Average loss: 1.7107, Accuracy: 19079/50000 (38.2%)\n",
            "\n",
            "\n",
            "Test set: Average loss: 1.5124, Accuracy: 4388/10000 (43.880%)\n",
            "\n",
            "Train Epoch: 5 [0/50000 (0%)]\tLoss: 1.602463\n",
            "Train Epoch: 5 [12800/50000 (26%)]\tLoss: 1.648411\n",
            "Train Epoch: 5 [25600/50000 (51%)]\tLoss: 1.634646\n",
            "Train Epoch: 5 [38400/50000 (77%)]\tLoss: 1.725629\n",
            "\n",
            "Train set: Average loss: 1.6456, Accuracy: 19735/50000 (39.5%)\n",
            "\n",
            "\n",
            "Test set: Average loss: 1.4337, Accuracy: 4803/10000 (48.030%)\n",
            "\n",
            "Train Epoch: 6 [0/50000 (0%)]\tLoss: 1.474823\n",
            "Train Epoch: 6 [12800/50000 (26%)]\tLoss: 1.601797\n",
            "Train Epoch: 6 [25600/50000 (51%)]\tLoss: 1.529504\n",
            "Train Epoch: 6 [38400/50000 (77%)]\tLoss: 1.633651\n",
            "\n",
            "Train set: Average loss: 1.7251, Accuracy: 19876/50000 (39.8%)\n",
            "\n",
            "\n",
            "Test set: Average loss: 1.4228, Accuracy: 4758/10000 (47.580%)\n",
            "\n",
            "Train Epoch: 7 [0/50000 (0%)]\tLoss: 1.700858\n",
            "Train Epoch: 7 [12800/50000 (26%)]\tLoss: 1.736709\n",
            "Train Epoch: 7 [25600/50000 (51%)]\tLoss: 1.743069\n",
            "Train Epoch: 7 [38400/50000 (77%)]\tLoss: 1.653048\n",
            "\n",
            "Train set: Average loss: 1.5683, Accuracy: 20402/50000 (40.8%)\n",
            "\n",
            "\n",
            "Test set: Average loss: 1.4176, Accuracy: 4774/10000 (47.740%)\n",
            "\n",
            "Train Epoch: 8 [0/50000 (0%)]\tLoss: 1.533041\n",
            "Train Epoch: 8 [12800/50000 (26%)]\tLoss: 1.718293\n",
            "Train Epoch: 8 [25600/50000 (51%)]\tLoss: 1.666825\n",
            "Train Epoch: 8 [38400/50000 (77%)]\tLoss: 1.513985\n",
            "\n",
            "Train set: Average loss: 1.4264, Accuracy: 20597/50000 (41.2%)\n",
            "\n",
            "\n",
            "Test set: Average loss: 1.3671, Accuracy: 5121/10000 (51.210%)\n",
            "\n",
            "Train Epoch: 9 [0/50000 (0%)]\tLoss: 1.425969\n",
            "Train Epoch: 9 [12800/50000 (26%)]\tLoss: 1.496878\n",
            "Train Epoch: 9 [25600/50000 (51%)]\tLoss: 1.586936\n",
            "Train Epoch: 9 [38400/50000 (77%)]\tLoss: 1.603796\n",
            "\n",
            "Train set: Average loss: 1.6261, Accuracy: 20735/50000 (41.5%)\n",
            "\n",
            "\n",
            "Test set: Average loss: 1.3786, Accuracy: 5003/10000 (50.030%)\n",
            "\n",
            "Train Epoch: 10 [0/50000 (0%)]\tLoss: 1.489656\n",
            "Train Epoch: 10 [12800/50000 (26%)]\tLoss: 1.371382\n",
            "Train Epoch: 10 [25600/50000 (51%)]\tLoss: 1.676467\n",
            "Train Epoch: 10 [38400/50000 (77%)]\tLoss: 1.496863\n",
            "\n",
            "Train set: Average loss: 1.7669, Accuracy: 21017/50000 (42.0%)\n",
            "\n",
            "\n",
            "Test set: Average loss: 1.3710, Accuracy: 5109/10000 (51.090%)\n",
            "\n"
          ]
        }
      ],
      "source": [
        "cnn = CNN()\n",
        "optimizer = optim.SGD(cnn.parameters(), lr=0.1, momentum=0.9, weight_decay=5e-4)\n",
        "scheduler = torch.optim.lr_scheduler.CosineAnnealingLR(optimizer, T_max=200)\n",
        "\n",
        "epochs = 10\n",
        "for epoch in range(1, epochs + 1):\n",
        "    train(cnn, dl_train, optimizer, epoch, log_interval=100)\n",
        "    test(cnn, dl_test)\n",
        "    scheduler.step()"
      ]
    },
    {
      "cell_type": "markdown",
      "metadata": {
        "id": "wfUdUVvjYpPG"
      },
      "source": [
        "This should give 40 - 50 % - and if you are not already on Colab it will give you a stressed out laptop. The performance is a lot better than random, but we can definitely do better."
      ]
    },
    {
      "cell_type": "markdown",
      "metadata": {
        "id": "TdxT5bCzYpPG"
      },
      "source": [
        "### Have fun with GPUs\n",
        "You can already call it a day until this point because we won't grade the rest of the excecise. You can have more fun with the rest :)\n"
      ]
    },
    {
      "cell_type": "markdown",
      "metadata": {
        "id": "gq7S230AYpPG"
      },
      "source": [
        "\n",
        "If you didn't already, move to colab. To use a GPU, follow on the collaboratory menu tabs, \"Runtime\" => \"Change runtime type\" and set it to GPU. Then run the same training loop but now on GPU.\n",
        "\n",
        "It as easy as:"
      ]
    },
    {
      "cell_type": "code",
      "execution_count": null,
      "metadata": {
        "id": "mgdJLqk0YpPG"
      },
      "outputs": [],
      "source": [
        "device = 'cuda'\n",
        "if device == 'cuda': torch.backends.cudnn.benchmark = True # additional speed up\n",
        "\n",
        "cnn = CNN()\n",
        "optimizer = optim.SGD(cnn.parameters(), lr=0.1, momentum=0.9, weight_decay=5e-4)\n",
        "scheduler = torch.optim.lr_scheduler.CosineAnnealingLR(optimizer, T_max=200)\n",
        "cnn = cnn.to(device)\n",
        "\n",
        "epochs = 10\n",
        "for epoch in range(1, epochs + 1):\n",
        "    train(cnn, dl_train, optimizer, epoch, log_interval=100, device=device)\n",
        "    test(cnn, dl_test, device=device)\n",
        "    scheduler.step()"
      ]
    },
    {
      "cell_type": "markdown",
      "metadata": {
        "id": "I2oehRXjYpPG"
      },
      "source": [
        "This should be way faster now. But the true advantage of the GPU is that we can use much bigger models now and still train them in a reasonable amount of time. PyTorch is again very handy. The torchvision library comes with varies state-of-the-art model architectures, some of which you have seen in the lecture."
      ]
    },
    {
      "cell_type": "code",
      "execution_count": null,
      "metadata": {
        "id": "kUvIB5gBYpPG"
      },
      "outputs": [],
      "source": [
        "from torchvision.models import resnet18"
      ]
    },
    {
      "cell_type": "code",
      "execution_count": null,
      "metadata": {
        "scrolled": true,
        "id": "scxzFaJ7YpPG"
      },
      "outputs": [],
      "source": [
        "cnn = resnet18()\n",
        "print(cnn)"
      ]
    },
    {
      "cell_type": "markdown",
      "metadata": {
        "id": "FFiAV8UDYpPG"
      },
      "source": [
        "Looks scary! But the only thing you need to change to make it work on CIFAR is the last layer.\n",
        "Currently the last layer is:\n",
        "```\n",
        "  (fc): Linear(in_features=512, out_features=1000, bias=True)\n",
        "```\n",
        "out_features is the number of classes. This models are developed for Imagenet, a dataset with 1000 classes. So this part of the model you need to adapt. Additionally, you need to add a log-softmax layer again, as we us negative log-likelihood as the training criterion."
      ]
    },
    {
      "cell_type": "code",
      "execution_count": null,
      "metadata": {
        "id": "1bQogieEYpPG"
      },
      "outputs": [],
      "source": [
        "#########################################################################\n",
        "# TODO: Adapt the Resnet to work on CIFAR\n",
        "#########################################################################\n"
      ]
    },
    {
      "cell_type": "code",
      "execution_count": null,
      "metadata": {
        "id": "tMUHhowXYpPG"
      },
      "outputs": [],
      "source": [
        "# This should print 'torch.Size([16, 10])'\n",
        "cnn(torch.randn(16,3,32,32)).shape"
      ]
    },
    {
      "cell_type": "code",
      "execution_count": null,
      "metadata": {
        "id": "oCiFYi5qYpPG"
      },
      "outputs": [],
      "source": [
        "device = 'cuda'\n",
        "if device == 'cuda': torch.backends.cudnn.benchmark = True # this gives us additional speed up\n",
        "\n",
        "optimizer = optim.SGD(cnn.parameters(), lr=0.1, momentum=0.9, weight_decay=5e-4)\n",
        "scheduler = torch.optim.lr_scheduler.CosineAnnealingLR(optimizer, T_max=200)\n",
        "cnn = cnn.to(device)\n",
        "\n",
        "epochs = 50\n",
        "for epoch in range(1, epochs + 1):\n",
        "    train(cnn, dl_train, optimizer, epoch, log_interval=100, device=device)\n",
        "    test(cnn, dl_test, device=device)\n",
        "    scheduler.step()"
      ]
    },
    {
      "cell_type": "markdown",
      "metadata": {
        "id": "4aHfqRPgYpPG"
      },
      "source": [
        "This should get us well above 75%, the best we got was ~ 80%.\n",
        "\n",
        "Now, use different torchvision architectures, different optimizers (Adam is always a good choice), data augmentation techniques, and hyperparameter search to achieve a test accuracy of >90 %"
      ]
    },
    {
      "cell_type": "code",
      "execution_count": null,
      "metadata": {
        "id": "JnIe_EhMYpPG"
      },
      "outputs": [],
      "source": []
    }
  ],
  "metadata": {
    "kernelspec": {
      "display_name": "Python 3.9.12 ('base')",
      "language": "python",
      "name": "python3"
    },
    "language_info": {
      "codemirror_mode": {
        "name": "ipython",
        "version": 3
      },
      "file_extension": ".py",
      "mimetype": "text/x-python",
      "name": "python",
      "nbconvert_exporter": "python",
      "pygments_lexer": "ipython3",
      "version": "3.9.12"
    },
    "vscode": {
      "interpreter": {
        "hash": "d268b61a0efacafa8645774cb6d0204c9f01d7563ef03f7672146d044e8f345c"
      }
    },
    "colab": {
      "provenance": []
    }
  },
  "nbformat": 4,
  "nbformat_minor": 0
}