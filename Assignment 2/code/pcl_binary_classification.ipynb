{
  "cells": [
    {
      "cell_type": "markdown",
      "metadata": {
        "id": "vheJp-SvUHin"
      },
      "source": [
        "# Point Cloud Binary Classification with PyTorch"
      ]
    },
    {
      "cell_type": "markdown",
      "metadata": {
        "id": "Gre9p0-CUHip"
      },
      "source": [
        "Make sure you are using the `dl4cv` conda environment."
      ]
    },
    {
      "cell_type": "markdown",
      "metadata": {
        "id": "LRUzL0n1UHip"
      },
      "source": [
        "## Dataset loading and visualization"
      ]
    },
    {
      "cell_type": "markdown",
      "metadata": {
        "id": "3bdz1_p9UHip"
      },
      "source": [
        "The input X contain 100 2D points, and y are their corresponding labels (0 or 1). The goal is to train a model that can classify every point to its correct label.\n"
      ]
    },
    {
      "cell_type": "code",
      "execution_count": 1,
      "metadata": {
        "colab": {
          "base_uri": "https://localhost:8080/",
          "height": 447
        },
        "id": "9V5V41saUHip",
        "outputId": "83bbbd43-3467-43ad-a969-5d7165f618f9"
      },
      "outputs": [
        {
          "output_type": "display_data",
          "data": {
            "text/plain": [
              "<Figure size 640x480 with 1 Axes>"
            ],
            "image/png": "[encoded data removed]"
          },
          "metadata": {}
        },
        {
          "output_type": "display_data",
          "data": {
            "text/plain": [
              "<Figure size 640x480 with 0 Axes>"
            ]
          },
          "metadata": {}
        }
      ],
      "source": [
        "%matplotlib inline\n",
        "import matplotlib.pyplot as plt\n",
        "import numpy as np\n",
        "import torch\n",
        "import torch.nn as nn\n",
        "import torch.nn.functional as F\n",
        "import torch.optim as optim\n",
        "from torch.utils.data import Dataset\n",
        "from torch.utils.data import DataLoader\n",
        "from torch.optim import Adam\n",
        "\n",
        "dataset = np.load('data/2d_pcl_dataset.npz')\n",
        "X, y = dataset['X'], dataset['y']\n",
        "\n",
        "X0 = X[y==0] # 50 2D points have label 0\n",
        "X1 = X[y==1] # 50 2D points have label 1\n",
        "\n",
        "def plot(X0, X1, fit_param=None):\n",
        "    plt.scatter(X0[:,0], X0[:,1], color='red', label=0)\n",
        "    plt.scatter(X1[:,0], X1[:,1], color='blue', label=1)\n",
        "\n",
        "    plt.xlim([-0.55, 0.55])\n",
        "    plt.ylim([-0.35, 0.25])\n",
        "    plt.legend()\n",
        "    plt.show()\n",
        "    plt.clf()\n",
        "\n",
        "plot(X0, X1)"
      ]
    },
    {
      "cell_type": "markdown",
      "metadata": {
        "id": "QOOq8t63UHiq"
      },
      "source": [
        "## Logistic Regression for the point cloud classification task\n"
      ]
    },
    {
      "cell_type": "markdown",
      "metadata": {
        "id": "MJc_z0hYUHiq"
      },
      "source": [
        "Starting by filling in the `Simple2DDataset` class below. First, in the class constructore `__init__`, you will need to read the right `2d_pcl_dataset.npz` from disk.\n",
        "\n",
        "Second, in the `__getitem__`, you will need to take a single data point and its label based on its index `idx`"
      ]
    },
    {
      "cell_type": "code",
      "execution_count": 2,
      "metadata": {
        "id": "LmnyFIF2UHiq"
      },
      "outputs": [],
      "source": [
        "class Simple2DDataset(Dataset):\n",
        "    def __init__(self):\n",
        "        super().__init__()\n",
        "        #########################################################################\n",
        "        # TODO: read data from disk using np.load.\n",
        "        # Data is located in the folder \"data\".\n",
        "        # Save samples and labels to class members self.X and self.y respectively.\n",
        "        # samples should be an Nx2 numpy array. Labels should be Nx1.\n",
        "        #########################################################################\n",
        "        dataset = np.load('data/2d_pcl_dataset.npz')\n",
        "        self.X, self.y = dataset['X'], dataset['y']\n",
        "\n",
        "    def __len__(self):\n",
        "        # Returns the number of samples in the dataset.\n",
        "        return self.X.shape[0]\n",
        "\n",
        "    def __getitem__(self, idx):\n",
        "        #########################################################################\n",
        "        # TODO: return the sample and label with index idx\n",
        "        #########################################################################\n",
        "        point = self.X[idx]\n",
        "        label = self.y[idx]\n",
        "\n",
        "        # Convert to tensor.\n",
        "        return torch.from_numpy(point).float(), \\\n",
        "               torch.from_numpy(label[np.newaxis]).float()\n"
      ]
    },
    {
      "cell_type": "markdown",
      "metadata": {
        "id": "QUyGT6yLUHir"
      },
      "source": [
        "With the complete `Simple2DDataset`, we can create a PyTorch dataloader\n",
        "\n",
        "**NOTE**: if you encounter some unexpected errors in data loading, try setting `NUM_WORKERS = 0`"
      ]
    },
    {
      "cell_type": "code",
      "execution_count": 3,
      "metadata": {
        "colab": {
          "base_uri": "https://localhost:8080/"
        },
        "id": "uBjEwVrtUHir",
        "outputId": "74cf6b28-1490-41de-a7bd-11ab38134451"
      },
      "outputs": [
        {
          "output_type": "stream",
          "name": "stderr",
          "text": [
            "/usr/local/lib/python3.10/dist-packages/torch/utils/data/dataloader.py:557: UserWarning: This DataLoader will create 4 worker processes in total. Our suggested max number of worker in current system is 2, which is smaller than what this DataLoader is going to create. Please be aware that excessive worker creation might get DataLoader running slow or even freeze, lower the worker number to avoid potential slowness/freeze if necessary.\n",
            "  warnings.warn(_create_warning_msg(\n"
          ]
        }
      ],
      "source": [
        "BATCH_SIZE = 8\n",
        "NUM_WORKERS = 4\n",
        "\n",
        "# create the dataloader\n",
        "dataset = Simple2DDataset()\n",
        "train_dataloader = DataLoader(\n",
        "    dataset,\n",
        "    batch_size=BATCH_SIZE,\n",
        "    num_workers=NUM_WORKERS,\n",
        "    shuffle=True\n",
        ")"
      ]
    },
    {
      "cell_type": "markdown",
      "metadata": {
        "id": "r9BvrnorUHir"
      },
      "source": [
        "Now, define your first network by filling in the `LinearClassifier` class below.\n",
        "\n",
        "Add a single linear layer `nn.Linear` inside the `nn.Sequential` call. The input is 2D, and the output should be a single value, corresponding to the probability of a given 2D point being part of cluster 0."
      ]
    },
    {
      "cell_type": "code",
      "execution_count": 4,
      "metadata": {
        "id": "kpvkJD5zUHis"
      },
      "outputs": [],
      "source": [
        "class LinearClassifier(nn.Module):\n",
        "    def __init__(self):\n",
        "        super().__init__()\n",
        "\n",
        "        self.codename = 'linear'\n",
        "\n",
        "        #########################################################################\n",
        "        # TODO: add a single linear layer with nn.Linear, inside the `nn.Sequential` call.\n",
        "        # Input is 2D.\n",
        "        # Output is a single value.\n",
        "        #########################################################################\n",
        "        self.model = nn.Sequential(nn.Linear(2, 1))\n",
        "\n",
        "    def forward(self, batch):\n",
        "        # Process batch using the defined model.\n",
        "        x = self.model(batch)\n",
        "        # Final sigmoid activation to obtain a probability between 0 and 1.\n",
        "        return torch.sigmoid(x)"
      ]
    },
    {
      "cell_type": "markdown",
      "metadata": {
        "id": "gCoC7S0oUHis"
      },
      "source": [
        "Now, you are asked to implement the training loop below"
      ]
    },
    {
      "cell_type": "code",
      "execution_count": 5,
      "metadata": {
        "id": "rRUM-_d4UHis"
      },
      "outputs": [],
      "source": [
        "def train(net, optimizer, dataloader, epoch):\n",
        "    net.train()\n",
        "    loss_sum = 0\n",
        "    for batch_idx, (point, label) in enumerate(dataloader):\n",
        "        # First we need to zero the gradient, otherwise PyTorch would accumulate them\n",
        "        optimizer.zero_grad()\n",
        "\n",
        "        #########################################################################\n",
        "        #TODO:\n",
        "        # 1. forward pass of the network to obtain the predictions given the batch\n",
        "        # 2. compute the loss using F.binary_cross_entropy\n",
        "        # 3. backward pass on the loss using loss.backward(), and one step\n",
        "        # of gradient descent (optimization) using optimizer.step()\n",
        "        #########################################################################\n",
        "        # 1. Forward pass\n",
        "        predictions = net(point)\n",
        "\n",
        "        # 2. Compute the loss\n",
        "        loss = F.binary_cross_entropy(predictions, label)\n",
        "\n",
        "        # 3. Backward pass and optimization\n",
        "        loss.backward()\n",
        "        optimizer.step()\n",
        "\n",
        "        loss_sum += loss.item()\n",
        "    return loss_sum\n"
      ]
    },
    {
      "cell_type": "markdown",
      "metadata": {
        "id": "WdO10vl3UHis"
      },
      "source": [
        "You can now run below to train the linear model."
      ]
    },
    {
      "cell_type": "code",
      "execution_count": 6,
      "metadata": {
        "scrolled": true,
        "tags": [],
        "colab": {
          "base_uri": "https://localhost:8080/"
        },
        "id": "gLqCDhidUHis",
        "outputId": "95170739-b896-4517-dee1-cd869b60e9b6"
      },
      "outputs": [
        {
          "output_type": "stream",
          "name": "stderr",
          "text": [
            "/usr/local/lib/python3.10/dist-packages/torch/utils/data/dataloader.py:557: UserWarning: This DataLoader will create 4 worker processes in total. Our suggested max number of worker in current system is 2, which is smaller than what this DataLoader is going to create. Please be aware that excessive worker creation might get DataLoader running slow or even freeze, lower the worker number to avoid potential slowness/freeze if necessary.\n",
            "  warnings.warn(_create_warning_msg(\n"
          ]
        },
        {
          "output_type": "stream",
          "name": "stdout",
          "text": [
            "[Epoch 01] Loss: 8.9151\n",
            "[Epoch 02] Loss: 7.2710\n",
            "[Epoch 03] Loss: 6.0911\n",
            "[Epoch 04] Loss: 5.3672\n",
            "[Epoch 05] Loss: 5.0173\n",
            "[Epoch 06] Loss: 4.6890\n",
            "[Epoch 07] Loss: 4.5103\n",
            "[Epoch 08] Loss: 4.2552\n",
            "[Epoch 09] Loss: 4.2472\n",
            "[Epoch 10] Loss: 4.0440\n",
            "[Epoch 11] Loss: 3.9613\n",
            "[Epoch 12] Loss: 3.9141\n",
            "[Epoch 13] Loss: 4.0240\n",
            "[Epoch 14] Loss: 3.9726\n",
            "[Epoch 15] Loss: 3.9113\n",
            "[Epoch 16] Loss: 4.1736\n",
            "[Epoch 17] Loss: 4.0647\n",
            "[Epoch 18] Loss: 3.6969\n",
            "[Epoch 19] Loss: 3.7130\n",
            "[Epoch 20] Loss: 3.9496\n",
            "[Epoch 21] Loss: 3.5949\n",
            "[Epoch 22] Loss: 3.5852\n",
            "[Epoch 23] Loss: 3.7126\n",
            "[Epoch 24] Loss: 3.5722\n",
            "[Epoch 25] Loss: 3.6469\n",
            "[Epoch 26] Loss: 3.6564\n",
            "[Epoch 27] Loss: 3.6829\n",
            "[Epoch 28] Loss: 3.6925\n",
            "[Epoch 29] Loss: 3.6235\n",
            "[Epoch 30] Loss: 3.6435\n",
            "[Epoch 31] Loss: 3.6297\n",
            "[Epoch 32] Loss: 3.9205\n",
            "[Epoch 33] Loss: 3.7285\n",
            "[Epoch 34] Loss: 3.4613\n",
            "[Epoch 35] Loss: 3.4937\n",
            "[Epoch 36] Loss: 3.7018\n",
            "[Epoch 37] Loss: 3.7269\n",
            "[Epoch 38] Loss: 3.4361\n",
            "[Epoch 39] Loss: 3.6352\n",
            "[Epoch 40] Loss: 3.7127\n",
            "[Epoch 41] Loss: 3.6928\n",
            "[Epoch 42] Loss: 3.7491\n",
            "[Epoch 43] Loss: 3.5700\n",
            "[Epoch 44] Loss: 3.5520\n",
            "[Epoch 45] Loss: 3.4480\n",
            "[Epoch 46] Loss: 3.7593\n",
            "[Epoch 47] Loss: 3.7177\n",
            "[Epoch 48] Loss: 3.5942\n",
            "[Epoch 49] Loss: 3.7884\n",
            "[Epoch 50] Loss: 3.4549\n",
            "[Epoch 51] Loss: 3.7464\n",
            "[Epoch 52] Loss: 3.5292\n",
            "[Epoch 53] Loss: 3.7140\n",
            "[Epoch 54] Loss: 3.6975\n",
            "[Epoch 55] Loss: 3.4958\n",
            "[Epoch 56] Loss: 3.4642\n",
            "[Epoch 57] Loss: 3.6798\n",
            "[Epoch 58] Loss: 3.5532\n",
            "[Epoch 59] Loss: 3.4680\n",
            "[Epoch 60] Loss: 3.4761\n",
            "[Epoch 61] Loss: 3.6788\n",
            "[Epoch 62] Loss: 3.5810\n",
            "[Epoch 63] Loss: 3.6831\n",
            "[Epoch 64] Loss: 3.5792\n",
            "[Epoch 65] Loss: 4.0354\n",
            "[Epoch 66] Loss: 3.9953\n",
            "[Epoch 67] Loss: 3.4643\n",
            "[Epoch 68] Loss: 3.4539\n",
            "[Epoch 69] Loss: 3.4557\n",
            "[Epoch 70] Loss: 3.6788\n",
            "[Epoch 71] Loss: 3.5343\n",
            "[Epoch 72] Loss: 3.7546\n",
            "[Epoch 73] Loss: 3.4768\n",
            "[Epoch 74] Loss: 3.5435\n",
            "[Epoch 75] Loss: 3.4632\n",
            "[Epoch 76] Loss: 3.8132\n",
            "[Epoch 77] Loss: 3.5081\n",
            "[Epoch 78] Loss: 3.5991\n",
            "[Epoch 79] Loss: 3.7148\n",
            "[Epoch 80] Loss: 3.4720\n",
            "[Epoch 81] Loss: 3.6833\n",
            "[Epoch 82] Loss: 4.0282\n",
            "[Epoch 83] Loss: 3.4328\n",
            "[Epoch 84] Loss: 3.4639\n",
            "[Epoch 85] Loss: 3.6372\n",
            "[Epoch 86] Loss: 3.9689\n",
            "[Epoch 87] Loss: 3.4748\n",
            "[Epoch 88] Loss: 3.5945\n",
            "[Epoch 89] Loss: 3.4922\n",
            "[Epoch 90] Loss: 3.5158\n",
            "[Epoch 91] Loss: 3.4572\n",
            "[Epoch 92] Loss: 3.4969\n",
            "[Epoch 93] Loss: 3.5445\n",
            "[Epoch 94] Loss: 3.4603\n",
            "[Epoch 95] Loss: 3.5835\n",
            "[Epoch 96] Loss: 3.5754\n",
            "[Epoch 97] Loss: 3.5592\n",
            "[Epoch 98] Loss: 3.5035\n",
            "[Epoch 99] Loss: 3.4519\n",
            "[Epoch 100] Loss: 3.5148\n"
          ]
        }
      ],
      "source": [
        "NUM_EPOCHS = 100\n",
        "# create the network.\n",
        "net = LinearClassifier()\n",
        "\n",
        "# create the optimizer.\n",
        "optimizer = Adam(net.parameters(), lr=0.1)\n",
        "\n",
        "best_accuracy = 0\n",
        "for epoch_idx in range(NUM_EPOCHS):\n",
        "    loss = train(net, optimizer, train_dataloader, epoch_idx)\n",
        "    print('[Epoch %02d] Loss: %.4f' % (epoch_idx + 1, loss))"
      ]
    },
    {
      "cell_type": "markdown",
      "metadata": {
        "id": "SiHmnhMAUHis"
      },
      "source": [
        "Now plot your result below.\n"
      ]
    },
    {
      "cell_type": "code",
      "execution_count": 6,
      "metadata": {
        "id": "aUzn8GMjUHis"
      },
      "outputs": [],
      "source": []
    },
    {
      "cell_type": "code",
      "execution_count": 7,
      "metadata": {
        "colab": {
          "base_uri": "https://localhost:8080/",
          "height": 447
        },
        "id": "jGFTlkjEUHis",
        "outputId": "177be6ff-099b-4da5-fd8c-49cfdd028beb"
      },
      "outputs": [
        {
          "output_type": "display_data",
          "data": {
            "text/plain": [
              "<Figure size 640x480 with 1 Axes>"
            ],
            "image/png": "[encoded data removed]"
          },
          "metadata": {}
        },
        {
          "output_type": "display_data",
          "data": {
            "text/plain": [
              "<Figure size 640x480 with 0 Axes>"
            ]
          },
          "metadata": {}
        }
      ],
      "source": [
        "p = np.linspace(-0.5, 0.5, 500)\n",
        "x_plot, y_plot = np.meshgrid(p, p)\n",
        "X_plot = np.stack((x_plot, y_plot), axis=2).reshape(-1, 2)\n",
        "X_plot = torch.from_numpy(X_plot).float()\n",
        "output = net(X_plot)\n",
        "output = output.detach().numpy()\n",
        "output = output.reshape(x_plot.shape[0], x_plot.shape[1])\n",
        "\n",
        "plt.contour(x_plot, y_plot, output, [0.5],\n",
        "                  colors=('k',),\n",
        "                  linewidths=(3,))\n",
        "plot(X0, X1)\n"
      ]
    },
    {
      "cell_type": "markdown",
      "metadata": {
        "id": "zRCSVXf0UHis"
      },
      "source": [
        "### Implement your first multi-layer perceptron (MLP) for point cloud classification\n",
        "Now you should notice that your logistic regression model cannot classify the point cloud correctly, and this is as expected :)  \n",
        "Therefore, we now ask you to implement an MLP for the same binary classification task."
      ]
    },
    {
      "cell_type": "code",
      "execution_count": 8,
      "metadata": {
        "id": "mczZVCajUHis"
      },
      "outputs": [],
      "source": [
        "# These are the parameters to be used\n",
        "nInput = 2\n",
        "nOutput = 1\n",
        "nHidden = 16\n",
        "act_fn = nn.ReLU()\n",
        "\n",
        "class MLP(nn.Module):\n",
        "    def __init__(self, nInput, nOutput, nHidden, act_fn):\n",
        "        super().__init__()\n",
        "\n",
        "        # Define the network layers in order.\n",
        "        # Input is 2D (nInput).\n",
        "        # Output is a single value (nOutput).\n",
        "        # Multiple linear layers each followed by a ReLU non-linearity (apart from the last).\n",
        "        #########################################################################\n",
        "        # TODO: add a two-layer MLP, inside the `nn.Sequential` call.\n",
        "        # Input is 2D.\n",
        "        # Output is a single value.\n",
        "\n",
        "        # Hint: unlike logistic regression where you need only one nn.Linear layer,\n",
        "        # here you will have two nn.Linear layers. After the first layer, we\n",
        "        # apply a ReLU activation function. The output is then passed to another\n",
        "        # linear layer. Note that you should use `nHidden` below as the hidden dimension\n",
        "        # of your linear layers.\n",
        "        #########################################################################\n",
        "        self.model = nn.Sequential(\n",
        "            nn.Linear(nInput, nHidden),  # First linear layer\n",
        "            act_fn,                      # Activation function (ReLU)\n",
        "            nn.Linear(nHidden, nOutput)  # Second linear layer\n",
        "        )\n",
        "\n",
        "    def forward(self, batch):\n",
        "        # Process batch using the defined model.\n",
        "        x = self.model(batch)\n",
        "        # Final sigmoid activation to obtain a probability.\n",
        "        return torch.sigmoid(x)\n"
      ]
    },
    {
      "cell_type": "markdown",
      "metadata": {
        "id": "Fj6mVgz0UHis"
      },
      "source": [
        "Run below again!"
      ]
    },
    {
      "cell_type": "code",
      "execution_count": 9,
      "metadata": {
        "colab": {
          "base_uri": "https://localhost:8080/"
        },
        "id": "neFGTlO7UHit",
        "outputId": "2cfcddee-4f28-4a70-dc93-efcd933a03e3"
      },
      "outputs": [
        {
          "output_type": "stream",
          "name": "stdout",
          "text": [
            "[Epoch 01] Loss: 8.5429\n",
            "[Epoch 02] Loss: 5.5019\n",
            "[Epoch 03] Loss: 4.9383\n",
            "[Epoch 04] Loss: 3.5383\n",
            "[Epoch 05] Loss: 3.5490\n",
            "[Epoch 06] Loss: 3.5897\n",
            "[Epoch 07] Loss: 3.2925\n",
            "[Epoch 08] Loss: 3.2401\n",
            "[Epoch 09] Loss: 3.2735\n",
            "[Epoch 10] Loss: 2.7551\n",
            "[Epoch 11] Loss: 2.4361\n",
            "[Epoch 12] Loss: 2.2877\n",
            "[Epoch 13] Loss: 1.8813\n",
            "[Epoch 14] Loss: 1.6251\n",
            "[Epoch 15] Loss: 1.4245\n",
            "[Epoch 16] Loss: 1.4401\n",
            "[Epoch 17] Loss: 1.2511\n",
            "[Epoch 18] Loss: 1.0598\n",
            "[Epoch 19] Loss: 0.8499\n",
            "[Epoch 20] Loss: 0.7101\n",
            "[Epoch 21] Loss: 0.7068\n",
            "[Epoch 22] Loss: 0.6201\n",
            "[Epoch 23] Loss: 0.5079\n",
            "[Epoch 24] Loss: 0.6748\n",
            "[Epoch 25] Loss: 0.4028\n",
            "[Epoch 26] Loss: 0.5082\n",
            "[Epoch 27] Loss: 0.5584\n",
            "[Epoch 28] Loss: 0.3799\n",
            "[Epoch 29] Loss: 0.2956\n",
            "[Epoch 30] Loss: 0.2788\n",
            "[Epoch 31] Loss: 0.2393\n",
            "[Epoch 32] Loss: 0.2832\n",
            "[Epoch 33] Loss: 0.2853\n",
            "[Epoch 34] Loss: 0.3092\n",
            "[Epoch 35] Loss: 0.2049\n",
            "[Epoch 36] Loss: 0.2025\n",
            "[Epoch 37] Loss: 0.1744\n",
            "[Epoch 38] Loss: 0.1834\n",
            "[Epoch 39] Loss: 0.2633\n",
            "[Epoch 40] Loss: 0.4884\n",
            "[Epoch 41] Loss: 1.0153\n",
            "[Epoch 42] Loss: 0.1920\n",
            "[Epoch 43] Loss: 0.2234\n",
            "[Epoch 44] Loss: 0.1763\n",
            "[Epoch 45] Loss: 0.1830\n",
            "[Epoch 46] Loss: 0.2561\n",
            "[Epoch 47] Loss: 0.1205\n",
            "[Epoch 48] Loss: 0.1174\n",
            "[Epoch 49] Loss: 0.1249\n",
            "[Epoch 50] Loss: 0.1379\n",
            "[Epoch 51] Loss: 0.1067\n",
            "[Epoch 52] Loss: 0.0848\n",
            "[Epoch 53] Loss: 0.0875\n",
            "[Epoch 54] Loss: 0.0749\n",
            "[Epoch 55] Loss: 0.0674\n",
            "[Epoch 56] Loss: 0.0577\n",
            "[Epoch 57] Loss: 0.0639\n",
            "[Epoch 58] Loss: 0.0675\n",
            "[Epoch 59] Loss: 0.0542\n",
            "[Epoch 60] Loss: 0.0592\n",
            "[Epoch 61] Loss: 0.0509\n",
            "[Epoch 62] Loss: 0.0442\n",
            "[Epoch 63] Loss: 0.0462\n",
            "[Epoch 64] Loss: 0.0425\n",
            "[Epoch 65] Loss: 0.0466\n",
            "[Epoch 66] Loss: 0.0406\n",
            "[Epoch 67] Loss: 0.0406\n",
            "[Epoch 68] Loss: 0.0413\n",
            "[Epoch 69] Loss: 0.0392\n",
            "[Epoch 70] Loss: 0.0417\n",
            "[Epoch 71] Loss: 0.0351\n",
            "[Epoch 72] Loss: 0.0463\n",
            "[Epoch 73] Loss: 0.0396\n",
            "[Epoch 74] Loss: 0.0390\n",
            "[Epoch 75] Loss: 0.0326\n",
            "[Epoch 76] Loss: 0.0314\n",
            "[Epoch 77] Loss: 0.0315\n",
            "[Epoch 78] Loss: 0.0280\n",
            "[Epoch 79] Loss: 0.0272\n",
            "[Epoch 80] Loss: 0.0290\n",
            "[Epoch 81] Loss: 0.0314\n",
            "[Epoch 82] Loss: 0.0361\n",
            "[Epoch 83] Loss: 0.0242\n",
            "[Epoch 84] Loss: 0.0345\n",
            "[Epoch 85] Loss: 0.0263\n",
            "[Epoch 86] Loss: 0.0296\n",
            "[Epoch 87] Loss: 0.0259\n",
            "[Epoch 88] Loss: 0.0382\n",
            "[Epoch 89] Loss: 0.0206\n",
            "[Epoch 90] Loss: 0.0296\n",
            "[Epoch 91] Loss: 0.0211\n",
            "[Epoch 92] Loss: 0.0218\n",
            "[Epoch 93] Loss: 0.0189\n",
            "[Epoch 94] Loss: 0.0189\n",
            "[Epoch 95] Loss: 0.0196\n",
            "[Epoch 96] Loss: 0.0186\n",
            "[Epoch 97] Loss: 0.0176\n",
            "[Epoch 98] Loss: 0.0170\n",
            "[Epoch 99] Loss: 0.0178\n",
            "[Epoch 100] Loss: 0.0183\n",
            "[Epoch 101] Loss: 0.0167\n",
            "[Epoch 102] Loss: 0.0169\n",
            "[Epoch 103] Loss: 0.0150\n",
            "[Epoch 104] Loss: 0.0161\n",
            "[Epoch 105] Loss: 0.0159\n",
            "[Epoch 106] Loss: 0.0148\n",
            "[Epoch 107] Loss: 0.0145\n",
            "[Epoch 108] Loss: 0.0149\n",
            "[Epoch 109] Loss: 0.0153\n",
            "[Epoch 110] Loss: 0.0140\n",
            "[Epoch 111] Loss: 0.0159\n",
            "[Epoch 112] Loss: 0.0144\n",
            "[Epoch 113] Loss: 0.0126\n",
            "[Epoch 114] Loss: 0.0130\n",
            "[Epoch 115] Loss: 0.0126\n",
            "[Epoch 116] Loss: 0.0119\n",
            "[Epoch 117] Loss: 0.0135\n",
            "[Epoch 118] Loss: 0.0125\n",
            "[Epoch 119] Loss: 0.0117\n",
            "[Epoch 120] Loss: 0.0115\n",
            "[Epoch 121] Loss: 0.0125\n",
            "[Epoch 122] Loss: 0.0144\n",
            "[Epoch 123] Loss: 0.0135\n",
            "[Epoch 124] Loss: 0.0120\n",
            "[Epoch 125] Loss: 0.0117\n",
            "[Epoch 126] Loss: 0.0117\n",
            "[Epoch 127] Loss: 0.0103\n",
            "[Epoch 128] Loss: 0.0097\n",
            "[Epoch 129] Loss: 0.0102\n",
            "[Epoch 130] Loss: 0.0097\n",
            "[Epoch 131] Loss: 0.0112\n",
            "[Epoch 132] Loss: 0.0098\n",
            "[Epoch 133] Loss: 0.0098\n",
            "[Epoch 134] Loss: 0.0093\n",
            "[Epoch 135] Loss: 0.0092\n",
            "[Epoch 136] Loss: 0.0089\n",
            "[Epoch 137] Loss: 0.0084\n",
            "[Epoch 138] Loss: 0.0097\n",
            "[Epoch 139] Loss: 0.0079\n",
            "[Epoch 140] Loss: 0.0113\n",
            "[Epoch 141] Loss: 0.0078\n",
            "[Epoch 142] Loss: 0.0085\n",
            "[Epoch 143] Loss: 0.0091\n",
            "[Epoch 144] Loss: 0.0075\n",
            "[Epoch 145] Loss: 0.0079\n",
            "[Epoch 146] Loss: 0.0101\n",
            "[Epoch 147] Loss: 0.0103\n",
            "[Epoch 148] Loss: 0.0099\n",
            "[Epoch 149] Loss: 0.0075\n",
            "[Epoch 150] Loss: 0.0071\n",
            "[Epoch 151] Loss: 0.0076\n",
            "[Epoch 152] Loss: 0.0069\n",
            "[Epoch 153] Loss: 0.0069\n",
            "[Epoch 154] Loss: 0.0065\n",
            "[Epoch 155] Loss: 0.0065\n",
            "[Epoch 156] Loss: 0.0065\n",
            "[Epoch 157] Loss: 0.0064\n",
            "[Epoch 158] Loss: 0.0065\n",
            "[Epoch 159] Loss: 0.0061\n",
            "[Epoch 160] Loss: 0.0060\n",
            "[Epoch 161] Loss: 0.0065\n",
            "[Epoch 162] Loss: 0.0062\n",
            "[Epoch 163] Loss: 0.0058\n",
            "[Epoch 164] Loss: 0.0057\n",
            "[Epoch 165] Loss: 0.0057\n",
            "[Epoch 166] Loss: 0.0059\n",
            "[Epoch 167] Loss: 0.0058\n",
            "[Epoch 168] Loss: 0.0057\n",
            "[Epoch 169] Loss: 0.0056\n",
            "[Epoch 170] Loss: 0.0052\n",
            "[Epoch 171] Loss: 0.0059\n",
            "[Epoch 172] Loss: 0.0051\n",
            "[Epoch 173] Loss: 0.0051\n",
            "[Epoch 174] Loss: 0.0058\n",
            "[Epoch 175] Loss: 0.0050\n",
            "[Epoch 176] Loss: 0.0051\n",
            "[Epoch 177] Loss: 0.0048\n",
            "[Epoch 178] Loss: 0.0055\n",
            "[Epoch 179] Loss: 0.0049\n",
            "[Epoch 180] Loss: 0.0060\n",
            "[Epoch 181] Loss: 0.0046\n",
            "[Epoch 182] Loss: 0.0063\n",
            "[Epoch 183] Loss: 0.0045\n",
            "[Epoch 184] Loss: 0.0046\n",
            "[Epoch 185] Loss: 0.0046\n",
            "[Epoch 186] Loss: 0.0043\n",
            "[Epoch 187] Loss: 0.0044\n",
            "[Epoch 188] Loss: 0.0042\n",
            "[Epoch 189] Loss: 0.0042\n",
            "[Epoch 190] Loss: 0.0046\n",
            "[Epoch 191] Loss: 0.0041\n",
            "[Epoch 192] Loss: 0.0040\n",
            "[Epoch 193] Loss: 0.0041\n",
            "[Epoch 194] Loss: 0.0040\n",
            "[Epoch 195] Loss: 0.0039\n",
            "[Epoch 196] Loss: 0.0053\n",
            "[Epoch 197] Loss: 0.0038\n",
            "[Epoch 198] Loss: 0.0042\n",
            "[Epoch 199] Loss: 0.0036\n",
            "[Epoch 200] Loss: 0.0036\n"
          ]
        }
      ],
      "source": [
        "NUM_EPOCHS = 200\n",
        "\n",
        "# create the network.\n",
        "net = MLP(nInput, nOutput, nHidden, act_fn)\n",
        "\n",
        "# create the optimizer.\n",
        "optimizer = Adam(net.parameters(), lr=0.1)\n",
        "\n",
        "best_accuracy = 0\n",
        "for epoch_idx in range(NUM_EPOCHS):\n",
        "    loss = train(net, optimizer, train_dataloader, epoch_idx)\n",
        "    print('[Epoch %02d] Loss: %.4f' % (epoch_idx + 1, loss))"
      ]
    },
    {
      "cell_type": "markdown",
      "metadata": {
        "id": "uE2jbAvvUHit"
      },
      "source": [
        "Again plot your result. You should see that the decision boundary can clearly separate the point clouds.\n"
      ]
    },
    {
      "cell_type": "code",
      "execution_count": 10,
      "metadata": {
        "colab": {
          "base_uri": "https://localhost:8080/",
          "height": 447
        },
        "id": "7JFI_4AkUHit",
        "outputId": "81fada27-6d98-4bea-dc1b-dbf727abbdbc"
      },
      "outputs": [
        {
          "output_type": "display_data",
          "data": {
            "text/plain": [
              "<Figure size 640x480 with 1 Axes>"
            ],
            "image/png": "[encoded data removed]"
          },
          "metadata": {}
        },
        {
          "output_type": "display_data",
          "data": {
            "text/plain": [
              "<Figure size 640x480 with 0 Axes>"
            ]
          },
          "metadata": {}
        }
      ],
      "source": [
        "p = np.linspace(-0.5, 0.5, 500)\n",
        "x_plot, y_plot = np.meshgrid(p, p)\n",
        "X_plot = np.stack((x_plot, y_plot), axis=2).reshape(-1, 2)\n",
        "X_plot = torch.from_numpy(X_plot).float()\n",
        "output = net(X_plot)\n",
        "output = output.detach().numpy()\n",
        "output = output.reshape(x_plot.shape[0], x_plot.shape[1])\n",
        "\n",
        "plt.contour(x_plot, y_plot, output, [0.5],\n",
        "                  colors=('k',),\n",
        "                  linewidths=(3,))\n",
        "plot(X0, X1)"
      ]
    },
    {
      "cell_type": "markdown",
      "metadata": {
        "id": "PgK-E_EiUHit"
      },
      "source": [
        "When you are done, move forward to `image_classification.ipynb`."
      ]
    },
    {
      "cell_type": "markdown",
      "metadata": {
        "id": "AhMPaVbQUHit"
      },
      "source": []
    }
  ],
  "metadata": {
    "kernelspec": {
      "display_name": "Python 3.9.12 ('base')",
      "language": "python",
      "name": "python3"
    },
    "language_info": {
      "codemirror_mode": {
        "name": "ipython",
        "version": 3
      },
      "file_extension": ".py",
      "mimetype": "text/x-python",
      "name": "python",
      "nbconvert_exporter": "python",
      "pygments_lexer": "ipython3",
      "version": "3.9.12"
    },
    "vscode": {
      "interpreter": {
        "hash": "d268b61a0efacafa8645774cb6d0204c9f01d7563ef03f7672146d044e8f345c"
      }
    },
    "colab": {
      "provenance": []
    }
  },
  "nbformat": 4,
  "nbformat_minor": 0
}